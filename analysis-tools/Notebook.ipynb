{
 "cells": [
  {
   "cell_type": "code",
   "execution_count": 1,
   "id": "a07bd093",
   "metadata": {},
   "outputs": [],
   "source": [
    "import pandas as pd\n",
    "import os"
   ]
  },
  {
   "cell_type": "code",
   "execution_count": 2,
   "id": "ceca7592",
   "metadata": {},
   "outputs": [],
   "source": [
    "#This will have to change after we set it up to pull from Drive\n",
    "datapath =  os.getcwd() + \"/data/\""
   ]
  },
  {
   "cell_type": "code",
   "execution_count": 3,
   "id": "ad79e2db",
   "metadata": {},
   "outputs": [],
   "source": [
    "query = pd.read_csv(datapath + \"barcode13-query.csv\")\n",
    "hits = pd.read_csv(datapath + \"barcode13-hits.csv\")"
   ]
  },
  {
   "cell_type": "code",
   "execution_count": 4,
   "id": "d5593648",
   "metadata": {},
   "outputs": [
    {
     "data": {
      "text/plain": [
       "31"
      ]
     },
     "execution_count": 4,
     "metadata": {},
     "output_type": "execute_result"
    }
   ],
   "source": [
    "len(query.columns)"
   ]
  },
  {
   "cell_type": "code",
   "execution_count": 5,
   "id": "ea112f62",
   "metadata": {},
   "outputs": [
    {
     "data": {
      "text/plain": [
       "38"
      ]
     },
     "execution_count": 5,
     "metadata": {},
     "output_type": "execute_result"
    }
   ],
   "source": [
    "len(hits.columns)"
   ]
  },
  {
   "cell_type": "code",
   "execution_count": 6,
   "id": "9699f243",
   "metadata": {},
   "outputs": [
    {
     "data": {
      "text/plain": [
       "Index(['Name', '# Source Sequences', '% GC', '% HQ', '% Identical Sites',\n",
       "       '% LQ', '% MQ', '% Pairwise Identity', 'Ambiguities', 'At least Q20',\n",
       "       'At least Q30', 'At least Q40', 'Bin', 'Created', 'Created Date',\n",
       "       'Description', 'Failed Binning Fields', 'Free end gaps',\n",
       "       'Mean Coverage', 'Modified', 'Molecular Weight (kDa)', 'Molecule Type',\n",
       "       'Post-Trim Length', 'Rough Temperature (°C)', 'Sample', 'Sequence',\n",
       "       'Sequence Length', 'Sequence List Name', 'Size', 'Topology', 'URN'],\n",
       "      dtype='object')"
      ]
     },
     "execution_count": 6,
     "metadata": {},
     "output_type": "execute_result"
    }
   ],
   "source": [
    "query.columns"
   ]
  },
  {
   "cell_type": "code",
   "execution_count": 10,
   "id": "d6996664",
   "metadata": {},
   "outputs": [
    {
     "data": {
      "text/plain": [
       "Index(['Name', '# Source Sequences', '% GC', '% HQ', '% Identical Sites',\n",
       "       '% LQ', '% MQ', '% Pairwise Identity', 'Ambiguities', 'At least Q20',\n",
       "       'At least Q30', 'At least Q40', 'Bin', 'Created', 'Created Date',\n",
       "       'Description', 'Failed Binning Fields', 'Free end gaps',\n",
       "       'Mean Coverage', 'Modified', 'Molecular Weight (kDa)', 'Molecule Type',\n",
       "       'Post-Trim Length', 'Rough Temperature (°C)', 'Sample', 'Sequence',\n",
       "       'Sequence Length', 'Size', 'Topology', 'URN'],\n",
       "      dtype='object')"
      ]
     },
     "execution_count": 10,
     "metadata": {},
     "output_type": "execute_result"
    }
   ],
   "source": [
    "dropped_query = query.dropna(axis=1,how='all')\n",
    "dropped_query.columns"
   ]
  },
  {
   "cell_type": "code",
   "execution_count": 11,
   "id": "6f343af9",
   "metadata": {},
   "outputs": [
    {
     "data": {
      "text/plain": [
       "Index(['Name', '# Nucleotides', '# Sequences', '% GC', '% Identical Sites',\n",
       "       '% Pairwise Identity', 'Accession', 'Bit-Score', 'Created',\n",
       "       'Created Date', 'Database', 'Description', 'E Value', 'Free end gaps',\n",
       "       'Grade', 'Hit end', 'Hit start', 'Max Sequence Length', 'Mean Coverage',\n",
       "       'Min Sequence Length', 'Modified', 'Molecular Weight (kDa)',\n",
       "       'Molecule Type', 'Organism', 'Original Query Frame', 'Query',\n",
       "       'Query Id', 'Query coverage', 'Query end', 'Query start',\n",
       "       'Ref Seq Index', 'Ref Seq Length', 'Ref Seq Name',\n",
       "       'Rough Temperature (°C)', 'Sequence', 'Sequence Length', 'Topology',\n",
       "       'URN'],\n",
       "      dtype='object')"
      ]
     },
     "execution_count": 11,
     "metadata": {},
     "output_type": "execute_result"
    }
   ],
   "source": [
    "hits.columns"
   ]
  },
  {
   "cell_type": "code",
   "execution_count": 13,
   "id": "7deac7d0",
   "metadata": {},
   "outputs": [
    {
     "data": {
      "text/plain": [
       "36"
      ]
     },
     "execution_count": 13,
     "metadata": {},
     "output_type": "execute_result"
    }
   ],
   "source": [
    "dropped_hits = hits.dropna(axis=1,how='all')\n",
    "len(dropped_hits.columns)"
   ]
  },
  {
   "cell_type": "code",
   "execution_count": 14,
   "id": "1b005066",
   "metadata": {},
   "outputs": [
    {
     "data": {
      "text/plain": [
       "Index(['Name', '# Nucleotides', '# Sequences', '% GC', '% Identical Sites',\n",
       "       '% Pairwise Identity', 'Accession', 'Bit-Score', 'Created',\n",
       "       'Created Date', 'Database', 'Description', 'E Value', 'Free end gaps',\n",
       "       'Grade', 'Hit end', 'Hit start', 'Max Sequence Length', 'Mean Coverage',\n",
       "       'Min Sequence Length', 'Modified', 'Molecular Weight (kDa)',\n",
       "       'Molecule Type', 'Organism', 'Original Query Frame', 'Query',\n",
       "       'Query coverage', 'Query end', 'Query start', 'Ref Seq Index',\n",
       "       'Ref Seq Length', 'Rough Temperature (°C)', 'Sequence',\n",
       "       'Sequence Length', 'Topology', 'URN'],\n",
       "      dtype='object')"
      ]
     },
     "execution_count": 14,
     "metadata": {},
     "output_type": "execute_result"
    }
   ],
   "source": [
    "dropped_hits.columns"
   ]
  },
  {
   "cell_type": "code",
   "execution_count": 13,
   "id": "57280492",
   "metadata": {},
   "outputs": [
    {
     "ename": "ValueError",
     "evalue": "Lengths must match to compare",
     "output_type": "error",
     "traceback": [
      "\u001b[31m---------------------------------------------------------------------------\u001b[39m",
      "\u001b[31mValueError\u001b[39m                                Traceback (most recent call last)",
      "\u001b[36mCell\u001b[39m\u001b[36m \u001b[39m\u001b[32mIn[13]\u001b[39m\u001b[32m, line 1\u001b[39m\n\u001b[32m----> \u001b[39m\u001b[32m1\u001b[39m \u001b[38;5;28;01massert\u001b[39;00m \u001b[38;5;28mall\u001b[39m(hits.columns == query.columns), \u001b[33m\"\u001b[39m\u001b[33mColumns in hits and query do not match\u001b[39m\u001b[33m\"\u001b[39m\n",
      "\u001b[36mFile \u001b[39m\u001b[32m/opt/anaconda3/envs/bioinformatics_a1/lib/python3.12/site-packages/pandas/core/ops/common.py:76\u001b[39m, in \u001b[36m_unpack_zerodim_and_defer.<locals>.new_method\u001b[39m\u001b[34m(self, other)\u001b[39m\n\u001b[32m     72\u001b[39m             \u001b[38;5;28;01mreturn\u001b[39;00m \u001b[38;5;28mNotImplemented\u001b[39m\n\u001b[32m     74\u001b[39m other = item_from_zerodim(other)\n\u001b[32m---> \u001b[39m\u001b[32m76\u001b[39m \u001b[38;5;28;01mreturn\u001b[39;00m method(\u001b[38;5;28mself\u001b[39m, other)\n",
      "\u001b[36mFile \u001b[39m\u001b[32m/opt/anaconda3/envs/bioinformatics_a1/lib/python3.12/site-packages/pandas/core/arraylike.py:40\u001b[39m, in \u001b[36mOpsMixin.__eq__\u001b[39m\u001b[34m(self, other)\u001b[39m\n\u001b[32m     38\u001b[39m \u001b[38;5;129m@unpack_zerodim_and_defer\u001b[39m(\u001b[33m\"\u001b[39m\u001b[33m__eq__\u001b[39m\u001b[33m\"\u001b[39m)\n\u001b[32m     39\u001b[39m \u001b[38;5;28;01mdef\u001b[39;00m\u001b[38;5;250m \u001b[39m\u001b[34m__eq__\u001b[39m(\u001b[38;5;28mself\u001b[39m, other):\n\u001b[32m---> \u001b[39m\u001b[32m40\u001b[39m     \u001b[38;5;28;01mreturn\u001b[39;00m \u001b[38;5;28mself\u001b[39m._cmp_method(other, operator.eq)\n",
      "\u001b[36mFile \u001b[39m\u001b[32m/opt/anaconda3/envs/bioinformatics_a1/lib/python3.12/site-packages/pandas/core/indexes/base.py:7185\u001b[39m, in \u001b[36mIndex._cmp_method\u001b[39m\u001b[34m(self, other, op)\u001b[39m\n\u001b[32m   7180\u001b[39m         \u001b[38;5;28;01mreturn\u001b[39;00m arr\n\u001b[32m   7182\u001b[39m \u001b[38;5;28;01mif\u001b[39;00m \u001b[38;5;28misinstance\u001b[39m(other, (np.ndarray, Index, ABCSeries, ExtensionArray)) \u001b[38;5;129;01mand\u001b[39;00m \u001b[38;5;28mlen\u001b[39m(\n\u001b[32m   7183\u001b[39m     \u001b[38;5;28mself\u001b[39m\n\u001b[32m   7184\u001b[39m ) != \u001b[38;5;28mlen\u001b[39m(other):\n\u001b[32m-> \u001b[39m\u001b[32m7185\u001b[39m     \u001b[38;5;28;01mraise\u001b[39;00m \u001b[38;5;167;01mValueError\u001b[39;00m(\u001b[33m\"\u001b[39m\u001b[33mLengths must match to compare\u001b[39m\u001b[33m\"\u001b[39m)\n\u001b[32m   7187\u001b[39m \u001b[38;5;28;01mif\u001b[39;00m \u001b[38;5;129;01mnot\u001b[39;00m \u001b[38;5;28misinstance\u001b[39m(other, ABCMultiIndex):\n\u001b[32m   7188\u001b[39m     other = extract_array(other, extract_numpy=\u001b[38;5;28;01mTrue\u001b[39;00m)\n",
      "\u001b[31mValueError\u001b[39m: Lengths must match to compare"
     ]
    }
   ],
   "source": [
    "assert all(hits.columns == query.columns), \"Columns in hits and query do not match\""
   ]
  },
  {
   "cell_type": "code",
   "execution_count": 14,
   "id": "ddb6e1ac",
   "metadata": {},
   "outputs": [],
   "source": [
    "def clean_query_name(row):\n",
    "    name = row['Name']\n",
    "    name = name.split()\n",
    "    for item in name:\n",
    "        if \"=\" in item:\n",
    "            item = item.split(\"=\")\n",
    "            row[item[0]] = item[1]\n",
    "\n",
    "    return row\n"
   ]
  },
  {
   "cell_type": "code",
   "execution_count": 15,
   "id": "e517a3bd",
   "metadata": {},
   "outputs": [
    {
     "ename": "ValueError",
     "evalue": "Lengths must match to compare",
     "output_type": "error",
     "traceback": [
      "\u001b[31m---------------------------------------------------------------------------\u001b[39m",
      "\u001b[31mValueError\u001b[39m                                Traceback (most recent call last)",
      "\u001b[36mCell\u001b[39m\u001b[36m \u001b[39m\u001b[32mIn[15]\u001b[39m\u001b[32m, line 4\u001b[39m\n\u001b[32m      1\u001b[39m query = query.apply(clean_query_name, axis=\u001b[32m1\u001b[39m)\n\u001b[32m      2\u001b[39m hits = hits.apply(clean_query_name, axis=\u001b[32m1\u001b[39m)\n\u001b[32m----> \u001b[39m\u001b[32m4\u001b[39m \u001b[38;5;28;01massert\u001b[39;00m \u001b[38;5;28mall\u001b[39m(hits.columns == query.columns), \u001b[33m\"\u001b[39m\u001b[33mColumns in hits and query do not match\u001b[39m\u001b[33m\"\u001b[39m\n",
      "\u001b[36mFile \u001b[39m\u001b[32m/opt/anaconda3/envs/bioinformatics_a1/lib/python3.12/site-packages/pandas/core/ops/common.py:76\u001b[39m, in \u001b[36m_unpack_zerodim_and_defer.<locals>.new_method\u001b[39m\u001b[34m(self, other)\u001b[39m\n\u001b[32m     72\u001b[39m             \u001b[38;5;28;01mreturn\u001b[39;00m \u001b[38;5;28mNotImplemented\u001b[39m\n\u001b[32m     74\u001b[39m other = item_from_zerodim(other)\n\u001b[32m---> \u001b[39m\u001b[32m76\u001b[39m \u001b[38;5;28;01mreturn\u001b[39;00m method(\u001b[38;5;28mself\u001b[39m, other)\n",
      "\u001b[36mFile \u001b[39m\u001b[32m/opt/anaconda3/envs/bioinformatics_a1/lib/python3.12/site-packages/pandas/core/arraylike.py:40\u001b[39m, in \u001b[36mOpsMixin.__eq__\u001b[39m\u001b[34m(self, other)\u001b[39m\n\u001b[32m     38\u001b[39m \u001b[38;5;129m@unpack_zerodim_and_defer\u001b[39m(\u001b[33m\"\u001b[39m\u001b[33m__eq__\u001b[39m\u001b[33m\"\u001b[39m)\n\u001b[32m     39\u001b[39m \u001b[38;5;28;01mdef\u001b[39;00m\u001b[38;5;250m \u001b[39m\u001b[34m__eq__\u001b[39m(\u001b[38;5;28mself\u001b[39m, other):\n\u001b[32m---> \u001b[39m\u001b[32m40\u001b[39m     \u001b[38;5;28;01mreturn\u001b[39;00m \u001b[38;5;28mself\u001b[39m._cmp_method(other, operator.eq)\n",
      "\u001b[36mFile \u001b[39m\u001b[32m/opt/anaconda3/envs/bioinformatics_a1/lib/python3.12/site-packages/pandas/core/indexes/base.py:7185\u001b[39m, in \u001b[36mIndex._cmp_method\u001b[39m\u001b[34m(self, other, op)\u001b[39m\n\u001b[32m   7180\u001b[39m         \u001b[38;5;28;01mreturn\u001b[39;00m arr\n\u001b[32m   7182\u001b[39m \u001b[38;5;28;01mif\u001b[39;00m \u001b[38;5;28misinstance\u001b[39m(other, (np.ndarray, Index, ABCSeries, ExtensionArray)) \u001b[38;5;129;01mand\u001b[39;00m \u001b[38;5;28mlen\u001b[39m(\n\u001b[32m   7183\u001b[39m     \u001b[38;5;28mself\u001b[39m\n\u001b[32m   7184\u001b[39m ) != \u001b[38;5;28mlen\u001b[39m(other):\n\u001b[32m-> \u001b[39m\u001b[32m7185\u001b[39m     \u001b[38;5;28;01mraise\u001b[39;00m \u001b[38;5;167;01mValueError\u001b[39;00m(\u001b[33m\"\u001b[39m\u001b[33mLengths must match to compare\u001b[39m\u001b[33m\"\u001b[39m)\n\u001b[32m   7187\u001b[39m \u001b[38;5;28;01mif\u001b[39;00m \u001b[38;5;129;01mnot\u001b[39;00m \u001b[38;5;28misinstance\u001b[39m(other, ABCMultiIndex):\n\u001b[32m   7188\u001b[39m     other = extract_array(other, extract_numpy=\u001b[38;5;28;01mTrue\u001b[39;00m)\n",
      "\u001b[31mValueError\u001b[39m: Lengths must match to compare"
     ]
    }
   ],
   "source": [
    "query = query.apply(clean_query_name, axis=1)\n",
    "hits = hits.apply(clean_query_name, axis=1)\n",
    "\n",
    "assert all(hits.columns == query.columns), \"Columns in hits and query do not match\""
   ]
  },
  {
   "cell_type": "code",
   "execution_count": 54,
   "id": "dec16500",
   "metadata": {},
   "outputs": [
    {
     "data": {
      "text/plain": [
       "# Source Sequences     0.995798\n",
       "% Identical Sites      0.995798\n",
       "% Pairwise Identity    0.995798\n",
       "Description            0.995798\n",
       "Free end gaps          0.995798\n",
       "Mean Coverage          0.995798\n",
       "Sample                 0.995798\n",
       "Sequence List Name     1.000000\n",
       "dtype: float64"
      ]
     },
     "execution_count": 54,
     "metadata": {},
     "output_type": "execute_result"
    }
   ],
   "source": [
    "(query.isnull().sum() / query.shape[0])[query.isnull().sum() / query.shape[0] > 0.5]"
   ]
  },
  {
   "cell_type": "code",
   "execution_count": 55,
   "id": "e94a0be6",
   "metadata": {},
   "outputs": [
    {
     "data": {
      "text/plain": [
       "# Source Sequences           0.999321\n",
       "% GC                         0.997283\n",
       "% HQ                         0.997283\n",
       "% Identical Sites            0.999321\n",
       "% LQ                         0.997283\n",
       "% MQ                         0.997283\n",
       "% Pairwise Identity          0.999321\n",
       "Ambiguities                  0.997283\n",
       "At least Q20                 0.997283\n",
       "At least Q30                 0.997283\n",
       "At least Q40                 0.997283\n",
       "Bin                          0.997283\n",
       "Created                      0.997283\n",
       "Failed Binning Fields        0.997283\n",
       "Free end gaps                0.999321\n",
       "Mean Coverage                0.999321\n",
       "Modified                     0.996603\n",
       "Molecular Weight (kDa)       0.997283\n",
       "Molecule Type                0.997283\n",
       "Post-Trim Length             0.997283\n",
       "Rough Temperature (°C)       0.997283\n",
       "Sample                       0.999321\n",
       "Sequence Length              0.997283\n",
       "Size                         0.997283\n",
       "Topology                     0.996603\n",
       "URN                          1.000000\n",
       "barcode                      0.502717\n",
       "barcode_alias                0.502717\n",
       "basecall_model_version_id    0.502717\n",
       "ch                           0.502717\n",
       "flow_cell_id                 0.502717\n",
       "parent_read_id               0.502717\n",
       "protocol_group_id            0.502717\n",
       "runid                        0.502717\n",
       "sample_id                    0.502717\n",
       "start_time                   0.502717\n",
       "dtype: float64"
      ]
     },
     "execution_count": 55,
     "metadata": {},
     "output_type": "execute_result"
    }
   ],
   "source": [
    "(hits.isnull().sum() / hits.shape[0])[hits.isnull().sum() / hits.shape[0] > 0.5]"
   ]
  },
  {
   "cell_type": "code",
   "execution_count": 56,
   "id": "d7aaab3f",
   "metadata": {},
   "outputs": [
    {
     "data": {
      "text/plain": [
       "np.int64(4)"
      ]
     },
     "execution_count": 56,
     "metadata": {},
     "output_type": "execute_result"
    }
   ],
   "source": [
    "query[\"% Pairwise Identity\"].notnull().sum()"
   ]
  },
  {
   "cell_type": "code",
   "execution_count": 57,
   "id": "594953f6",
   "metadata": {},
   "outputs": [],
   "source": [
    "filtered_hits = pd.read_csv(datapath + \"barcode13-filtered-hits.csv\")\n"
   ]
  },
  {
   "cell_type": "code",
   "execution_count": 61,
   "id": "fde35b76",
   "metadata": {},
   "outputs": [],
   "source": [
    "filtered_hits = filtered_hits.apply(clean_query_name, axis=1)"
   ]
  },
  {
   "cell_type": "code",
   "execution_count": 62,
   "id": "b7e431c0",
   "metadata": {},
   "outputs": [
    {
     "data": {
      "text/plain": [
       "Index(['# Source Sequences', '% Identical Sites', '% Pairwise Identity',\n",
       "       'Created Date', 'Description', 'Free end gaps', 'Mean Coverage',\n",
       "       'Modified', 'Name', 'Sample', 'Sequence', 'Sequence List Name',\n",
       "       'Topology', 'URN', 'barcode', 'barcode_alias',\n",
       "       'basecall_model_version_id', 'ch', 'flow_cell_id', 'parent_read_id',\n",
       "       'protocol_group_id', 'runid', 'sample_id', 'start_time'],\n",
       "      dtype='object')"
      ]
     },
     "execution_count": 62,
     "metadata": {},
     "output_type": "execute_result"
    }
   ],
   "source": [
    "filtered_hits.columns"
   ]
  },
  {
   "cell_type": "code",
   "execution_count": 58,
   "id": "92d3e9c2",
   "metadata": {},
   "outputs": [
    {
     "ename": "KeyError",
     "evalue": "'parent_read_id'",
     "output_type": "error",
     "traceback": [
      "\u001b[31m---------------------------------------------------------------------------\u001b[39m",
      "\u001b[31mKeyError\u001b[39m                                  Traceback (most recent call last)",
      "\u001b[36mFile \u001b[39m\u001b[32m~/bioinformatics/workflows/analysis-tools/.venv/lib/python3.12/site-packages/pandas/core/indexes/base.py:3805\u001b[39m, in \u001b[36mIndex.get_loc\u001b[39m\u001b[34m(self, key)\u001b[39m\n\u001b[32m   3804\u001b[39m \u001b[38;5;28;01mtry\u001b[39;00m:\n\u001b[32m-> \u001b[39m\u001b[32m3805\u001b[39m     \u001b[38;5;28;01mreturn\u001b[39;00m \u001b[38;5;28;43mself\u001b[39;49m\u001b[43m.\u001b[49m\u001b[43m_engine\u001b[49m\u001b[43m.\u001b[49m\u001b[43mget_loc\u001b[49m\u001b[43m(\u001b[49m\u001b[43mcasted_key\u001b[49m\u001b[43m)\u001b[49m\n\u001b[32m   3806\u001b[39m \u001b[38;5;28;01mexcept\u001b[39;00m \u001b[38;5;167;01mKeyError\u001b[39;00m \u001b[38;5;28;01mas\u001b[39;00m err:\n",
      "\u001b[36mFile \u001b[39m\u001b[32mindex.pyx:167\u001b[39m, in \u001b[36mpandas._libs.index.IndexEngine.get_loc\u001b[39m\u001b[34m()\u001b[39m\n",
      "\u001b[36mFile \u001b[39m\u001b[32mindex.pyx:196\u001b[39m, in \u001b[36mpandas._libs.index.IndexEngine.get_loc\u001b[39m\u001b[34m()\u001b[39m\n",
      "\u001b[36mFile \u001b[39m\u001b[32mpandas/_libs/hashtable_class_helper.pxi:7081\u001b[39m, in \u001b[36mpandas._libs.hashtable.PyObjectHashTable.get_item\u001b[39m\u001b[34m()\u001b[39m\n",
      "\u001b[36mFile \u001b[39m\u001b[32mpandas/_libs/hashtable_class_helper.pxi:7089\u001b[39m, in \u001b[36mpandas._libs.hashtable.PyObjectHashTable.get_item\u001b[39m\u001b[34m()\u001b[39m\n",
      "\u001b[31mKeyError\u001b[39m: 'parent_read_id'",
      "\nThe above exception was the direct cause of the following exception:\n",
      "\u001b[31mKeyError\u001b[39m                                  Traceback (most recent call last)",
      "\u001b[36mCell\u001b[39m\u001b[36m \u001b[39m\u001b[32mIn[58]\u001b[39m\u001b[32m, line 1\u001b[39m\n\u001b[32m----> \u001b[39m\u001b[32m1\u001b[39m hits[hits[\u001b[33m\"\u001b[39m\u001b[33mparent_read_id\u001b[39m\u001b[33m\"\u001b[39m] != \u001b[43mfiltered_hits\u001b[49m\u001b[43m[\u001b[49m\u001b[33;43m\"\u001b[39;49m\u001b[33;43mparent_read_id\u001b[39;49m\u001b[33;43m\"\u001b[39;49m\u001b[43m]\u001b[49m]\n",
      "\u001b[36mFile \u001b[39m\u001b[32m~/bioinformatics/workflows/analysis-tools/.venv/lib/python3.12/site-packages/pandas/core/frame.py:4102\u001b[39m, in \u001b[36mDataFrame.__getitem__\u001b[39m\u001b[34m(self, key)\u001b[39m\n\u001b[32m   4100\u001b[39m \u001b[38;5;28;01mif\u001b[39;00m \u001b[38;5;28mself\u001b[39m.columns.nlevels > \u001b[32m1\u001b[39m:\n\u001b[32m   4101\u001b[39m     \u001b[38;5;28;01mreturn\u001b[39;00m \u001b[38;5;28mself\u001b[39m._getitem_multilevel(key)\n\u001b[32m-> \u001b[39m\u001b[32m4102\u001b[39m indexer = \u001b[38;5;28;43mself\u001b[39;49m\u001b[43m.\u001b[49m\u001b[43mcolumns\u001b[49m\u001b[43m.\u001b[49m\u001b[43mget_loc\u001b[49m\u001b[43m(\u001b[49m\u001b[43mkey\u001b[49m\u001b[43m)\u001b[49m\n\u001b[32m   4103\u001b[39m \u001b[38;5;28;01mif\u001b[39;00m is_integer(indexer):\n\u001b[32m   4104\u001b[39m     indexer = [indexer]\n",
      "\u001b[36mFile \u001b[39m\u001b[32m~/bioinformatics/workflows/analysis-tools/.venv/lib/python3.12/site-packages/pandas/core/indexes/base.py:3812\u001b[39m, in \u001b[36mIndex.get_loc\u001b[39m\u001b[34m(self, key)\u001b[39m\n\u001b[32m   3807\u001b[39m     \u001b[38;5;28;01mif\u001b[39;00m \u001b[38;5;28misinstance\u001b[39m(casted_key, \u001b[38;5;28mslice\u001b[39m) \u001b[38;5;129;01mor\u001b[39;00m (\n\u001b[32m   3808\u001b[39m         \u001b[38;5;28misinstance\u001b[39m(casted_key, abc.Iterable)\n\u001b[32m   3809\u001b[39m         \u001b[38;5;129;01mand\u001b[39;00m \u001b[38;5;28many\u001b[39m(\u001b[38;5;28misinstance\u001b[39m(x, \u001b[38;5;28mslice\u001b[39m) \u001b[38;5;28;01mfor\u001b[39;00m x \u001b[38;5;129;01min\u001b[39;00m casted_key)\n\u001b[32m   3810\u001b[39m     ):\n\u001b[32m   3811\u001b[39m         \u001b[38;5;28;01mraise\u001b[39;00m InvalidIndexError(key)\n\u001b[32m-> \u001b[39m\u001b[32m3812\u001b[39m     \u001b[38;5;28;01mraise\u001b[39;00m \u001b[38;5;167;01mKeyError\u001b[39;00m(key) \u001b[38;5;28;01mfrom\u001b[39;00m\u001b[38;5;250m \u001b[39m\u001b[34;01merr\u001b[39;00m\n\u001b[32m   3813\u001b[39m \u001b[38;5;28;01mexcept\u001b[39;00m \u001b[38;5;167;01mTypeError\u001b[39;00m:\n\u001b[32m   3814\u001b[39m     \u001b[38;5;66;03m# If we have a listlike key, _check_indexing_error will raise\u001b[39;00m\n\u001b[32m   3815\u001b[39m     \u001b[38;5;66;03m#  InvalidIndexError. Otherwise we fall through and re-raise\u001b[39;00m\n\u001b[32m   3816\u001b[39m     \u001b[38;5;66;03m#  the TypeError.\u001b[39;00m\n\u001b[32m   3817\u001b[39m     \u001b[38;5;28mself\u001b[39m._check_indexing_error(key)\n",
      "\u001b[31mKeyError\u001b[39m: 'parent_read_id'"
     ]
    }
   ],
   "source": [
    "hits[hits[\"parent_read_id\"] != filtered_hits[\"parent_read_id\"]]"
   ]
  },
  {
   "cell_type": "markdown",
   "id": "de495277",
   "metadata": {},
   "source": [
    "# Number of Unique Organisms Found"
   ]
  },
  {
   "cell_type": "code",
   "execution_count": null,
   "id": "ea7a46d1",
   "metadata": {},
   "outputs": [],
   "source": [
    "hits."
   ]
  }
 ],
 "metadata": {
  "kernelspec": {
   "display_name": "bioinformatics_a1",
   "language": "python",
   "name": "python3"
  },
  "language_info": {
   "codemirror_mode": {
    "name": "ipython",
    "version": 3
   },
   "file_extension": ".py",
   "mimetype": "text/x-python",
   "name": "python",
   "nbconvert_exporter": "python",
   "pygments_lexer": "ipython3",
   "version": "3.12.9"
  }
 },
 "nbformat": 4,
 "nbformat_minor": 5
}
