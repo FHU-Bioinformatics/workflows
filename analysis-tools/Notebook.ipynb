{
 "cells": [
  {
   "cell_type": "code",
   "execution_count": 1,
   "id": "a07bd093",
   "metadata": {},
   "outputs": [],
   "source": [
    "import pandas as pd\n",
    "import os"
   ]
  },
  {
   "cell_type": "markdown",
   "id": "6a5e0f99",
   "metadata": {},
   "source": [
    "## Aquiring Data\n",
    "\n",
    "This will aquire the data from Drive once fully developed. Currently getting it from the data folder that is being ignored in Github. Right now, we are only getting it from folders Hits and Query, not Assembly."
   ]
  },
  {
   "cell_type": "code",
   "execution_count": 2,
   "id": "ceca7592",
   "metadata": {},
   "outputs": [],
   "source": [
    "#This will have to change after we set it up to pull from Drive\n",
    "datapath =  os.getcwd() + \"/data/\""
   ]
  },
  {
   "cell_type": "code",
   "execution_count": 3,
   "id": "ad79e2db",
   "metadata": {},
   "outputs": [],
   "source": [
    "# Getting our dataframe. Currently hardcoded with the name of the csv.\n",
    "query = pd.read_csv(datapath + \"barcode13-query.csv\")\n",
    "hits = pd.read_csv(datapath + \"barcode13-hits.csv\")"
   ]
  },
  {
   "cell_type": "markdown",
   "id": "d39fe8c3",
   "metadata": {},
   "source": [
    "## Cleaning Data\n",
    "\n",
    "This section cleans the data and also shows exactly what was dropped/manipulated."
   ]
  },
  {
   "cell_type": "code",
   "execution_count": 4,
   "id": "ea112f62",
   "metadata": {},
   "outputs": [],
   "source": [
    "# These functions are for later exception raising/preliminary analysis of the actual csv structure.\n",
    "# They are mainly for cleaning the data, analysis functions will be later/in a different block.\n",
    "def compare_columns(df1,df2):\n",
    "    set1_c, set2_c = set(df1.columns), set(df2.columns)\n",
    "    # \"a - b\" removes the items in a that it shares with b. (just look up set theory)\n",
    "    df1_dif = set1_c - set2_c\n",
    "    df2_dif = set2_c - set1_c\n",
    "    return df1_dif, df2_dif\n",
    "\n",
    "def drop_nan_columns(df):\n",
    "    dropped_df = df.dropna(axis=1,how='all')\n",
    "    return dropped_df\n",
    "\n",
    "def unusual_row_mask(df, col, threshold=0.5):\n",
    "    \"\"\"Return a Boolean mask for rows where the column has values,\n",
    "    but the column is mostly NaN based on the threshold.\"\"\"\n",
    "    if df[col].isna().mean() >= threshold:\n",
    "        return df[col].notna()\n",
    "    return pd.Series([False] * len(df), index=df.index)\n",
    "\n",
    "def get_peculiar_columns(df,threshold=0.5):\n",
    "    return (df.isnull().sum() / df.shape[0])[df.isnull().sum() / df.shape[0] > threshold]\n",
    "\n",
    "def rows_for_peculiar_columns(df,threshold=0.5):\n",
    "    masks = {}\n",
    "    p_series = get_peculiar_columns(df,threshold)\n",
    "    for p_col in p_series.index:\n",
    "        mask = unusual_row_mask(df, p_col, threshold)\n",
    "        if mask.any():  # Only keep masks that select at least one row. A dictionary\n",
    "            masks[p_col] = mask\n",
    "    return masks\n",
    "\n",
    "def split_query_name(row,splitting_column='Name'):\n",
    "    name = row[splitting_column]\n",
    "    name = name.split()\n",
    "    for item in name:\n",
    "        if \"=\" in item:\n",
    "            item = item.split(\"=\")\n",
    "            if item[1] == '' or item[1] == ' ' or item[1] == []:\n",
    "                item[1] = float('nan')\n",
    "            row[item[0]] = item[1]\n",
    "    return row\n"
   ]
  },
  {
   "cell_type": "markdown",
   "id": "102fee1c",
   "metadata": {},
   "source": [
    "### Immediate Cleanup\n",
    "\n",
    "Some of the data has all NaN values for certain columns, so they need to be cleaned up. Also, some qualities of the unclean data are shown."
   ]
  },
  {
   "cell_type": "code",
   "execution_count": 5,
   "id": "d5593648",
   "metadata": {},
   "outputs": [
    {
     "name": "stdout",
     "output_type": "stream",
     "text": [
      "31 columns in uncleaned query\n",
      "38 columns in uncleaned hits\n"
     ]
    }
   ],
   "source": [
    "print(len(query.columns), \"columns in uncleaned query\")\n",
    "print(len(hits.columns), \"columns in uncleaned hits\")"
   ]
  },
  {
   "cell_type": "code",
   "execution_count": 6,
   "id": "9699f243",
   "metadata": {},
   "outputs": [
    {
     "data": {
      "text/plain": [
       "Index(['Name', '# Source Sequences', '% GC', '% HQ', '% Identical Sites',\n",
       "       '% LQ', '% MQ', '% Pairwise Identity', 'Ambiguities', 'At least Q20',\n",
       "       'At least Q30', 'At least Q40', 'Bin', 'Created', 'Created Date',\n",
       "       'Description', 'Failed Binning Fields', 'Free end gaps',\n",
       "       'Mean Coverage', 'Modified', 'Molecular Weight (kDa)', 'Molecule Type',\n",
       "       'Post-Trim Length', 'Rough Temperature (°C)', 'Sample', 'Sequence',\n",
       "       'Sequence Length', 'Sequence List Name', 'Size', 'Topology', 'URN'],\n",
       "      dtype='object')"
      ]
     },
     "execution_count": 6,
     "metadata": {},
     "output_type": "execute_result"
    }
   ],
   "source": [
    "query.columns"
   ]
  },
  {
   "cell_type": "code",
   "execution_count": 7,
   "id": "6f343af9",
   "metadata": {},
   "outputs": [
    {
     "data": {
      "text/plain": [
       "Index(['Name', '# Nucleotides', '# Sequences', '% GC', '% Identical Sites',\n",
       "       '% Pairwise Identity', 'Accession', 'Bit-Score', 'Created',\n",
       "       'Created Date', 'Database', 'Description', 'E Value', 'Free end gaps',\n",
       "       'Grade', 'Hit end', 'Hit start', 'Max Sequence Length', 'Mean Coverage',\n",
       "       'Min Sequence Length', 'Modified', 'Molecular Weight (kDa)',\n",
       "       'Molecule Type', 'Organism', 'Original Query Frame', 'Query',\n",
       "       'Query Id', 'Query coverage', 'Query end', 'Query start',\n",
       "       'Ref Seq Index', 'Ref Seq Length', 'Ref Seq Name',\n",
       "       'Rough Temperature (°C)', 'Sequence', 'Sequence Length', 'Topology',\n",
       "       'URN'],\n",
       "      dtype='object')"
      ]
     },
     "execution_count": 7,
     "metadata": {},
     "output_type": "execute_result"
    }
   ],
   "source": [
    "hits.columns"
   ]
  },
  {
   "cell_type": "code",
   "execution_count": 8,
   "id": "7deac7d0",
   "metadata": {},
   "outputs": [
    {
     "name": "stdout",
     "output_type": "stream",
     "text": [
      "For dropped query ({'Sequence List Name'}, set())\n",
      "For dropped hits ({'Ref Seq Name', 'Query Id'}, set())\n"
     ]
    }
   ],
   "source": [
    "dropped_query = drop_nan_columns(query)\n",
    "dropped_hits = drop_nan_columns(hits)\n",
    "# Error check. Make Better Later\n",
    "try:\n",
    "    print(\"For dropped query\", compare_columns(query,dropped_query))\n",
    "except:\n",
    "    print(\"oops1\")\n",
    "try:\n",
    "    print(\"For dropped hits\", compare_columns(hits,dropped_hits))\n",
    "except:\n",
    "    print(\"oops2\")"
   ]
  },
  {
   "cell_type": "markdown",
   "id": "145e99ad",
   "metadata": {},
   "source": [
    "### Further Cleanup\n",
    "\n",
    "The exportation from Geneious Prime has extra data in Name and Query from the sequences in the folders Query and Hits respectively. These will enable us to partially link them together later in analysis.\n",
    "\n",
    "This next block shows exactly what we have to split up in our data, as Geneious prime put more data inside certain cells than others."
   ]
  },
  {
   "cell_type": "code",
   "execution_count": 9,
   "id": "cc662f8d",
   "metadata": {},
   "outputs": [
    {
     "name": "stdout",
     "output_type": "stream",
     "text": [
      "From the Query column in hits:\n",
      " Query    ace289cb-a9d5-470a-9e5f-86a43409224e runid=d0b33ea7460a391678012986097c20ea1c294534 ch=328 start_time=2025-02-25T14:51:59.325974-06:00 flow_cell_id=FBA87864 protocol_group_id=B3_T9_Seq_Run_25_02_25 sample_id= barcode=barcode13 barcode_alias=barcode13 parent_read_id=ace289cb-a9d5-470a-9e5f-86a43409224e basecall_model_version_id=dna_r10.4.1_e8.2_400bps_hac@v4.3.0\n",
      "Name: 10, dtype: object\n",
      "\n",
      "From the Name column in query:\n",
      " Name    1a42e9ad-2006-4a0d-8c47-45e11a2a0354 runid=d0b33ea7460a391678012986097c20ea1c294534 ch=358 start_time=2025-02-26T05:02:08.325974-06:00 flow_cell_id=FBA87864 protocol_group_id=B3_T9_Seq_Run_25_02_25 sample_id= barcode=barcode13 barcode_alias=barcode13 parent_read_id=1a42e9ad-2006-4a0d-8c47-45e11a2a0354 basecall_model_version_id=dna_r10.4.1_e8.2_400bps_hac@v4.3.0\n",
      "Name: 20, dtype: object\n"
     ]
    }
   ],
   "source": [
    "query_val = dropped_hits.loc[10,[\"Query\"]]\n",
    "pd.set_option('display.max_colwidth', None)\n",
    "print(\"From the Query column in hits:\\n\", query_val)\n",
    "name_val = dropped_query.loc[20,[\"Name\"]]\n",
    "print(\"\\nFrom the Name column in query:\\n\", name_val)"
   ]
  },
  {
   "cell_type": "markdown",
   "id": "8edfd2d8",
   "metadata": {},
   "source": [
    "Yet, for our queries that were contigs, the \"Name\" does not have the extra data (as it is just named \"Contig #\", so we lose a lot of extra data). We need to split the query dataframe."
   ]
  },
  {
   "cell_type": "code",
   "execution_count": 10,
   "id": "1b005066",
   "metadata": {},
   "outputs": [
    {
     "name": "stdout",
     "output_type": "stream",
     "text": [
      "These keys are what contigs but not regular sequences have:\n",
      " dict_keys(['# Source Sequences', '% Identical Sites', '% Pairwise Identity', 'Description', 'Free end gaps', 'Mean Coverage', 'Sample'])\n"
     ]
    }
   ],
   "source": [
    "# Splits the query table into the contigs and noncontigs.\n",
    "# TODO May need to do equals() to see if each column really does correspond to a contig.\n",
    "query_masks = rows_for_peculiar_columns(dropped_query)\n",
    "print(\"These keys are what contigs but not regular sequences have:\\n\", query_masks.keys())\n",
    "contig_query = dropped_query[query_masks['# Source Sequences']]\n",
    "noncontig_query = drop_nan_columns(dropped_query[~query_masks['# Source Sequences']])"
   ]
  },
  {
   "cell_type": "markdown",
   "id": "1404b741",
   "metadata": {},
   "source": [
    "Some of the extra data, doesn't actually have extra data, so that also needs to be cleaned up."
   ]
  },
  {
   "cell_type": "code",
   "execution_count": 11,
   "id": "ddb6e1ac",
   "metadata": {},
   "outputs": [],
   "source": [
    "# Splits our data up and gets the weird cell split up. Also drops sample_id as there is none.\n",
    "c_contig_query = contig_query.apply(split_query_name, axis=1) # Nothing happens as Name is just Contig #.\n",
    "c_noncontig_query = drop_nan_columns(noncontig_query.apply(split_query_name, axis=1))\n",
    "c_hits = drop_nan_columns(dropped_hits.apply(split_query_name, axis=1, splitting_column=\"Query\"))"
   ]
  },
  {
   "cell_type": "code",
   "execution_count": 12,
   "id": "0f411024",
   "metadata": {},
   "outputs": [
    {
     "name": "stdout",
     "output_type": "stream",
     "text": [
      "This is what is uniquely inside contigs:\n",
      " {'Sample', '% Identical Sites', '% Pairwise Identity', 'Description', '# Source Sequences', 'Free end gaps', 'Mean Coverage'} \n",
      "This is what is uniquely in non-contigs:\n",
      " {'protocol_group_id', 'basecall_model_version_id', 'start_time', 'barcode', 'parent_read_id', 'barcode_alias', 'runid', 'ch', 'flow_cell_id'}\n"
     ]
    }
   ],
   "source": [
    "in_contig, not_in_contig = compare_columns(c_contig_query, c_noncontig_query)\n",
    "print(\"This is what is uniquely inside contigs:\\n\", in_contig, \"\\nThis is what is uniquely in non-contigs:\\n\", not_in_contig)"
   ]
  },
  {
   "cell_type": "markdown",
   "id": "e937d264",
   "metadata": {},
   "source": [
    "## Analysis/Combining\n",
    "\n",
    "The data has been cleaned up. Now it is time to use that to see the details about the run"
   ]
  },
  {
   "cell_type": "code",
   "execution_count": 13,
   "id": "4fb35f11",
   "metadata": {},
   "outputs": [
    {
     "name": "stdout",
     "output_type": "stream",
     "text": [
      "From a row in c_hits:\n",
      " # Nucleotides                                                                                                                                                                                                                                                                                                                                                                                        106\n",
      "# Sequences                                                                                                                                                                                                                                                                                                                                                                                            2\n",
      "% GC                                                                                                                                                                                                                                                                                                                                                                                               69.8%\n",
      "% Identical Sites                                                                                                                                                                                                                                                                                                                                                                                 100.0%\n",
      "% Pairwise Identity                                                                                                                                                                                                                                                                                                                                                                               100.0%\n",
      "Accession                                                                                                                                                                                                                                                                                                                                                                                       CP070653\n",
      "Bit-Score                                                                                                                                                                                                                                                                                                                                                                                        98.9927\n",
      "Created                                                                                                                                                                                                                                                                                                                                                                     Tue Jun 03 10:14:50 CDT 2025\n",
      "Created Date                                                                                                                                                                                                                                                                                                                                                                Tue Jun 03 10:14:50 CDT 2025\n",
      "Database                                                                                                                                                                                                                                                                                                                                                                                         core_nt\n",
      "Description                                                                                                                                                                                                                                                                                                                                      MAG: Burkholderiales bacterium isolate bin83 chromosome\n",
      "E Value                                                                                                                                                                                                                                                                                                                                                                                              0.0\n",
      "Free end gaps                                                                                                                                                                                                                                                                                                                                                                                       True\n",
      "Grade                                                                                                                                                                                                                                                                                                                                                                                              75.0%\n",
      "Hit end                                                                                                                                                                                                                                                                                                                                                                                          2173475\n",
      "Hit start                                                                                                                                                                                                                                                                                                                                                                                        2173423\n",
      "Max Sequence Length                                                                                                                                                                                                                                                                                                                                                                                   53\n",
      "Mean Coverage                                                                                                                                                                                                                                                                                                                                                                                        2.0\n",
      "Min Sequence Length                                                                                                                                                                                                                                                                                                                                                                                   53\n",
      "Modified                                                                                                                                                                                                                                                                                                                                                                    Tue Jun 03 10:14:13 CDT 2025\n",
      "Molecular Weight (kDa)                                                                                                                                                                                                                                                                                                                                                                          16.46155\n",
      "Molecule Type                                                                                                                                                                                                                                                                                                                                                                                        DNA\n",
      "Name                                                                                                                                                                                                                                                                                                                                                                                            CP070653\n",
      "Organism                                                                                                                                                                                                                                                                                                                                                                            MAG: Burkholderiales\n",
      "Original Query Frame                                                                                                                                                                                                                                                                                                                                                                                   1\n",
      "Query                        309498a1-d29e-42a6-bdca-4f7047b0cecd runid=d0b33ea7460a391678012986097c20ea1c294534 ch=390 start_time=2025-02-25T16:47:58.325974-06:00 flow_cell_id=FBA87864 protocol_group_id=B3_T9_Seq_Run_25_02_25 sample_id= barcode=barcode13 barcode_alias=barcode13 parent_read_id=309498a1-d29e-42a6-bdca-4f7047b0cecd basecall_model_version_id=dna_r10.4.1_e8.2_400bps_hac@v4.3.0\n",
      "Query coverage                                                                                                                                                                                                                                                                                                                                                                                   100.00%\n",
      "Query end                                                                                                                                                                                                                                                                                                                                                                                             53\n",
      "Query start                                                                                                                                                                                                                                                                                                                                                                                            1\n",
      "Ref Seq Index                                                                                                                                                                                                                                                                                                                                                                                         -1\n",
      "Ref Seq Length                                                                                                                                                                                                                                                                                                                                                                                         0\n",
      "Rough Temperature (°C)                                                                                                                                                                                                                                                                                                                                                                         85.658491\n",
      "Sequence                                                                                                                                                                                                                                                                                                                                           CGACCTCGCCGCCGAAGTCGGCGTGGCCGGGCGTGTCGACGATGTTGATGTGC\n",
      "Sequence Length                                                                                                                                                                                                                                                                                                                                                                                       53\n",
      "Topology                                                                                                                                                                                                                                                                                                                                                                                          linear\n",
      "URN                                                                                                                                                                                                                                                                                                                                                                              urn:local:.:etr-j8w0l8a\n",
      "barcode                                                                                                                                                                                                                                                                                                                                                                                        barcode13\n",
      "barcode_alias                                                                                                                                                                                                                                                                                                                                                                                  barcode13\n",
      "basecall_model_version_id                                                                                                                                                                                                                                                                                                                                             dna_r10.4.1_e8.2_400bps_hac@v4.3.0\n",
      "ch                                                                                                                                                                                                                                                                                                                                                                                                   390\n",
      "flow_cell_id                                                                                                                                                                                                                                                                                                                                                                                    FBA87864\n",
      "parent_read_id                                                                                                                                                                                                                                                                                                                                                      309498a1-d29e-42a6-bdca-4f7047b0cecd\n",
      "protocol_group_id                                                                                                                                                                                                                                                                                                                                                                 B3_T9_Seq_Run_25_02_25\n",
      "runid                                                                                                                                                                                                                                                                                                                                                           d0b33ea7460a391678012986097c20ea1c294534\n",
      "start_time                                                                                                                                                                                                                                                                                                                                                              2025-02-25T16:47:58.325974-06:00\n",
      "Name: 5, dtype: object\n"
     ]
    }
   ],
   "source": [
    "c_hits_val = c_hits.loc[5,:]\n",
    "pd.set_option('display.max_colwidth', None)\n",
    "print(\"From a row in c_hits:\\n\", c_hits_val)"
   ]
  },
  {
   "cell_type": "code",
   "execution_count": 14,
   "id": "2be525a5",
   "metadata": {},
   "outputs": [
    {
     "data": {
      "text/plain": [
       "np.False_"
      ]
     },
     "execution_count": 14,
     "metadata": {},
     "output_type": "execute_result"
    }
   ],
   "source": [
    "# I believe that to map the two things to each other, it will be the parent_read_id in c_noncontig_query to the parent_read_id in c_hits.\n",
    "# I need to check if the contig read has parent_read_id as Contig 1\n",
    "c_hits['parent_read_id'].isin(['Contig 1','Contig']).any()"
   ]
  },
  {
   "cell_type": "code",
   "execution_count": 15,
   "id": "398479b3",
   "metadata": {},
   "outputs": [
    {
     "name": "stdout",
     "output_type": "stream",
     "text": [
      "From a row in c_hits:\n",
      " Name                                                                                                                                                                                                                                                                                                                                                                                                                                                                                                                                                                                                                             Contig 4\n",
      "# Source Sequences                                                                                                                                                                                                                                                                                                                                                                                                                                                                                                                                                                                                                    2.0\n",
      "% GC                                                                                                                                                                                                                                                                                                                                                                                                                                                                                                                                                                                                                                38.4%\n",
      "% HQ                                                                                                                                                                                                                                                                                                                                                                                                                                                                                                                                                                                                                                63.8%\n",
      "% Identical Sites                                                                                                                                                                                                                                                                                                                                                                                                                                                                                                                                                                                                                  100.0%\n",
      "% LQ                                                                                                                                                                                                                                                                                                                                                                                                                                                                                                                                                                                                                                 5.6%\n",
      "% MQ                                                                                                                                                                                                                                                                                                                                                                                                                                                                                                                                                                                                                                30.6%\n",
      "% Pairwise Identity                                                                                                                                                                                                                                                                                                                                                                                                                                                                                                                                                                                                                100.0%\n",
      "Ambiguities                                                                                                                                                                                                                                                                                                                                                                                                                                                                                                                                                                                                                             0\n",
      "At least Q20                                                                                                                                                                                                                                                                                                                                                                                                                                                                                                                                                                                                                       94.42%\n",
      "At least Q30                                                                                                                                                                                                                                                                                                                                                                                                                                                                                                                                                                                                                       87.31%\n",
      "At least Q40                                                                                                                                                                                                                                                                                                                                                                                                                                                                                                                                                                                                                       63.79%\n",
      "Bin                                                                                                                                                                                                                                                                                                                                                                                                                                                                                                                                                                                                                                <1>Low\n",
      "Created                                                                                                                                                                                                                                                                                                                                                                                                                                                                                                                                                                                                      Tue Jun 03 10:12:34 CDT 2025\n",
      "Created Date                                                                                                                                                                                                                                                                                                                                                                                                                                                                                                                                                                                                 Tue Jun 03 10:12:34 CDT 2025\n",
      "Description                                                                                                                                                                                                                                                                                                                                                                                                                                                                                                                                                                           2 reads from 135 documents assembled using Geneious\n",
      "Failed Binning Fields                                                                                                                                                                                                                                                                                                                                                                                                                                                                                                                                                                                                                % HQ\n",
      "Free end gaps                                                                                                                                                                                                                                                                                                                                                                                                                                                                                                                                                                                                                        True\n",
      "Mean Coverage                                                                                                                                                                                                                                                                                                                                                                                                                                                                                                                                                                                                                    1.445008\n",
      "Modified                                                                                                                                                                                                                                                                                                                                                                                                                                                                                                                                                                                                     Tue Jun 03 10:12:28 CDT 2025\n",
      "Molecular Weight (kDa)                                                                                                                                                                                                                                                                                                                                                                                                                                                                                                                                                                                                          182.36378\n",
      "Molecule Type                                                                                                                                                                                                                                                                                                                                                                                                                                                                                                                                                                                                                         DNA\n",
      "Post-Trim Length                                                                                                                                                                                                                                                                                                                                                                                                                                                                                                                                                                                                                      591\n",
      "Rough Temperature (°C)                                                                                                                                                                                                                                                                                                                                                                                                                                                                                                                                                                                                          83.948054\n",
      "Sample                                                                                                                                                                                                                                                                                                                                                                                                                                                                                                                                                                                                                      135 documents\n",
      "Sequence                  GTGTTAATAAAAGGACTTAAAAAGGTTGTAAATGTTAAATTCAAACATGCATCTTATAGAAACGTCCTATGATAGGTTGAAATCAAGAGAAATCACATTTCAGCAATACAGGGAAAATCTTGCTAAAGCAGGAGTTTTCCGATGGGTTACAAATATCCATGAACATAAAAGATATTACTATACCTTTGATAATTCATTACTATTTACTGAGAGCATTCAGAACACTACACAAATCTTTCCACGCTAAATCATAACGTCCGGTTTCTTCCGTGTCAGCACCGGGGCGTTGGCATAATGCAATACGTGTACGCGCTAAACCCTGTGTGCATCGTTTTAATTATTCCCGGACACTCCCGCAGAGAAGTTCCCCGTCAGGGCTGTGGACATAGTTAATCCGGGAATACAATGACGATTCATCGCACCTGACATACATTAATAAATATTAACAATATGAAATTTCAACTCATTGTTTAGGGTTTGTTTAATTTTCTACACATACGATTCTGCGAACTTCAAAAAGCATCGGGAATAACACCATGAAAAAAATGCTACTCGCTACTGCGCTGGCCCTGCTTATTACAGGATGTGCTC\n",
      "Sequence Length                                                                                                                                                                                                                                                                                                                                                                                                                                                                                                                                                                                                                       591\n",
      "Size                                                                                                                                                                                                                                                                                                                                                                                                                                                                                                                                                                                                                                 3 KB\n",
      "Topology                                                                                                                                                                                                                                                                                                                                                                                                                                                                                                                                                                                                                           linear\n",
      "URN                                                                                                                                                                                                                                                                                                                                                                                                                                                                                                                                                                                                               urn:local:.:bgu-j8w0aq4\n",
      "Name: 768, dtype: object\n"
     ]
    }
   ],
   "source": [
    "c_contig_val = c_contig_query.iloc[3,:]\n",
    "pd.set_option('display.max_colwidth', None)\n",
    "print(\"From a row in c_hits:\\n\", c_contig_val)"
   ]
  },
  {
   "cell_type": "code",
   "execution_count": 16,
   "id": "209c91d7",
   "metadata": {},
   "outputs": [
    {
     "data": {
      "text/plain": [
       "np.False_"
      ]
     },
     "execution_count": 16,
     "metadata": {},
     "output_type": "execute_result"
    }
   ],
   "source": [
    "# I don't know if this means that there was simply no results for the contigs, or if I am just not searching correctly.\n",
    "c_hits['Sequence'].isin(['CGTTCAGTTMCGTATTGCTAAGGTTAAAGAACGACTTCCATACTCGTGTGACAGCACCTSGTGCTGKYSKATGCGTTCAAGTTCTATATCTCGATCATGGCCGGCTATGTGATTTTTCGTGTGGACTTGCTGATCGTCAATCACTTTCGCGGCGCGAGCGAAGCCGGCGTATACGCCGTGGCCTCAGGTTTCGTTCCTTCTGCTGATGATTCCGGGCGTAATCGCGACGTT',\n",
    "                         'TAAGGTTAAAGAACGACTTCCATACTCGTGTGACAGCACCTAAGGTTAAAGAACGACTTCCATACTCGTGTGACAGCACCTGCGGGTCGGCGGCCTCCACGAGCAGGCGCTCGTTCCTCAGCCGGTGGTCGATCATCGGGTGCGGCCGGCCGCGCGTGAAGACGTCGTCGCCGAGGTCGATGAGCGTGTGCTGCTTCGACTTCCCAGGGATCCGCGATCTTGCGCGCGGGCTCCACCGGCGCGTTCGACCAGGCATCGCCCAGCAGGGCGGAGGCCTCGTAGCAGAAAGTGCCGCCGCTATA',\n",
    "                         'AAGGTTAAAGAACGACTTCCATACTCGTGTGACAGCACCTAAGGTTTAAAGACGACTTCCATACTCGTGTGACAGCACCTGCAGCCGATCAAGGCAGTCACGGTGAGTGATCCGAAGTGCGTGGAAGCCTCCATCGATCTCAAGGACGCAACCACCGTTCGCGTGCGTGC',\n",
    "                         'GTGTTAATAAAAGGACTTAAAAAGGTTGTAAATGTTAAATTCAAACATGCATCTTATAGAAACGTCCTATGATAGGTTGAAATCAAGAGAAATCACATTTCAGCAATACAGGGAAAATCTTGCTAAAGCAGGAGTTTTCCGATGGGTTACAAATATCCATGAACATAAAAGATATTACTATACCTTTGATAATTCATTACTATTTACTGAGAGCATTCAGAACACTACACAAATCTTTCCACGCTAAATCATAACGTCCGGTTTCTTCCGTGTCAGCACCGGGGCGTTGGCATAATGCAATACGTGTACGCGCTAAACCCTGTGTGCATCGTTTTAATTATTCCCGGACACTCCCGCAGAGAAGTTCCCCGTCAGGGCTGTGGACATAGTTAATCCGGGAATACAATGACGATTCATCGCACCTGACATACATTAATAAATATTAACAATATGAAATTTCAACTCATTGTTTAGGGTTTGTTTAATTTTCTACACATACGATTCTGCGAACTTCAAAAAGCATCGGGAATAACACCATGAAAAAAATGCTACTCGCTACTGCGCTGGCCCTGCTTATTACAGGATGTGCTC',\n",
    "                         ]).any()\n",
    "# Adding CGACCTCGCCGCCGAAGTCGGCGTGGCCGGGCGTGTCGACGATGTTGATGTGC to the list does indeed make it np.True_ so the contig just might not be searcing (or something else)."
   ]
  },
  {
   "cell_type": "code",
   "execution_count": 17,
   "id": "57280492",
   "metadata": {},
   "outputs": [
    {
     "ename": "ValueError",
     "evalue": "Lengths must match to compare",
     "output_type": "error",
     "traceback": [
      "\u001b[31m---------------------------------------------------------------------------\u001b[39m",
      "\u001b[31mValueError\u001b[39m                                Traceback (most recent call last)",
      "\u001b[36mCell\u001b[39m\u001b[36m \u001b[39m\u001b[32mIn[17]\u001b[39m\u001b[32m, line 1\u001b[39m\n\u001b[32m----> \u001b[39m\u001b[32m1\u001b[39m \u001b[38;5;28;01massert\u001b[39;00m \u001b[38;5;28mall\u001b[39m(hits.columns == query.columns), \u001b[33m\"\u001b[39m\u001b[33mColumns in hits and query do not match\u001b[39m\u001b[33m\"\u001b[39m\n",
      "\u001b[36mFile \u001b[39m\u001b[32m/opt/anaconda3/envs/bioinformatics_a1/lib/python3.12/site-packages/pandas/core/ops/common.py:76\u001b[39m, in \u001b[36m_unpack_zerodim_and_defer.<locals>.new_method\u001b[39m\u001b[34m(self, other)\u001b[39m\n\u001b[32m     72\u001b[39m             \u001b[38;5;28;01mreturn\u001b[39;00m \u001b[38;5;28mNotImplemented\u001b[39m\n\u001b[32m     74\u001b[39m other = item_from_zerodim(other)\n\u001b[32m---> \u001b[39m\u001b[32m76\u001b[39m \u001b[38;5;28;01mreturn\u001b[39;00m method(\u001b[38;5;28mself\u001b[39m, other)\n",
      "\u001b[36mFile \u001b[39m\u001b[32m/opt/anaconda3/envs/bioinformatics_a1/lib/python3.12/site-packages/pandas/core/arraylike.py:40\u001b[39m, in \u001b[36mOpsMixin.__eq__\u001b[39m\u001b[34m(self, other)\u001b[39m\n\u001b[32m     38\u001b[39m \u001b[38;5;129m@unpack_zerodim_and_defer\u001b[39m(\u001b[33m\"\u001b[39m\u001b[33m__eq__\u001b[39m\u001b[33m\"\u001b[39m)\n\u001b[32m     39\u001b[39m \u001b[38;5;28;01mdef\u001b[39;00m\u001b[38;5;250m \u001b[39m\u001b[34m__eq__\u001b[39m(\u001b[38;5;28mself\u001b[39m, other):\n\u001b[32m---> \u001b[39m\u001b[32m40\u001b[39m     \u001b[38;5;28;01mreturn\u001b[39;00m \u001b[38;5;28mself\u001b[39m._cmp_method(other, operator.eq)\n",
      "\u001b[36mFile \u001b[39m\u001b[32m/opt/anaconda3/envs/bioinformatics_a1/lib/python3.12/site-packages/pandas/core/indexes/base.py:7185\u001b[39m, in \u001b[36mIndex._cmp_method\u001b[39m\u001b[34m(self, other, op)\u001b[39m\n\u001b[32m   7180\u001b[39m         \u001b[38;5;28;01mreturn\u001b[39;00m arr\n\u001b[32m   7182\u001b[39m \u001b[38;5;28;01mif\u001b[39;00m \u001b[38;5;28misinstance\u001b[39m(other, (np.ndarray, Index, ABCSeries, ExtensionArray)) \u001b[38;5;129;01mand\u001b[39;00m \u001b[38;5;28mlen\u001b[39m(\n\u001b[32m   7183\u001b[39m     \u001b[38;5;28mself\u001b[39m\n\u001b[32m   7184\u001b[39m ) != \u001b[38;5;28mlen\u001b[39m(other):\n\u001b[32m-> \u001b[39m\u001b[32m7185\u001b[39m     \u001b[38;5;28;01mraise\u001b[39;00m \u001b[38;5;167;01mValueError\u001b[39;00m(\u001b[33m\"\u001b[39m\u001b[33mLengths must match to compare\u001b[39m\u001b[33m\"\u001b[39m)\n\u001b[32m   7187\u001b[39m \u001b[38;5;28;01mif\u001b[39;00m \u001b[38;5;129;01mnot\u001b[39;00m \u001b[38;5;28misinstance\u001b[39m(other, ABCMultiIndex):\n\u001b[32m   7188\u001b[39m     other = extract_array(other, extract_numpy=\u001b[38;5;28;01mTrue\u001b[39;00m)\n",
      "\u001b[31mValueError\u001b[39m: Lengths must match to compare"
     ]
    }
   ],
   "source": [
    "assert all(hits.columns == query.columns), \"Columns in hits and query do not match\""
   ]
  },
  {
   "cell_type": "code",
   "execution_count": null,
   "id": "e517a3bd",
   "metadata": {},
   "outputs": [
    {
     "ename": "ValueError",
     "evalue": "Lengths must match to compare",
     "output_type": "error",
     "traceback": [
      "\u001b[31m---------------------------------------------------------------------------\u001b[39m",
      "\u001b[31mValueError\u001b[39m                                Traceback (most recent call last)",
      "\u001b[36mCell\u001b[39m\u001b[36m \u001b[39m\u001b[32mIn[15]\u001b[39m\u001b[32m, line 4\u001b[39m\n\u001b[32m      1\u001b[39m query = query.apply(clean_query_name, axis=\u001b[32m1\u001b[39m)\n\u001b[32m      2\u001b[39m hits = hits.apply(clean_query_name, axis=\u001b[32m1\u001b[39m)\n\u001b[32m----> \u001b[39m\u001b[32m4\u001b[39m \u001b[38;5;28;01massert\u001b[39;00m \u001b[38;5;28mall\u001b[39m(hits.columns == query.columns), \u001b[33m\"\u001b[39m\u001b[33mColumns in hits and query do not match\u001b[39m\u001b[33m\"\u001b[39m\n",
      "\u001b[36mFile \u001b[39m\u001b[32m/opt/anaconda3/envs/bioinformatics_a1/lib/python3.12/site-packages/pandas/core/ops/common.py:76\u001b[39m, in \u001b[36m_unpack_zerodim_and_defer.<locals>.new_method\u001b[39m\u001b[34m(self, other)\u001b[39m\n\u001b[32m     72\u001b[39m             \u001b[38;5;28;01mreturn\u001b[39;00m \u001b[38;5;28mNotImplemented\u001b[39m\n\u001b[32m     74\u001b[39m other = item_from_zerodim(other)\n\u001b[32m---> \u001b[39m\u001b[32m76\u001b[39m \u001b[38;5;28;01mreturn\u001b[39;00m method(\u001b[38;5;28mself\u001b[39m, other)\n",
      "\u001b[36mFile \u001b[39m\u001b[32m/opt/anaconda3/envs/bioinformatics_a1/lib/python3.12/site-packages/pandas/core/arraylike.py:40\u001b[39m, in \u001b[36mOpsMixin.__eq__\u001b[39m\u001b[34m(self, other)\u001b[39m\n\u001b[32m     38\u001b[39m \u001b[38;5;129m@unpack_zerodim_and_defer\u001b[39m(\u001b[33m\"\u001b[39m\u001b[33m__eq__\u001b[39m\u001b[33m\"\u001b[39m)\n\u001b[32m     39\u001b[39m \u001b[38;5;28;01mdef\u001b[39;00m\u001b[38;5;250m \u001b[39m\u001b[34m__eq__\u001b[39m(\u001b[38;5;28mself\u001b[39m, other):\n\u001b[32m---> \u001b[39m\u001b[32m40\u001b[39m     \u001b[38;5;28;01mreturn\u001b[39;00m \u001b[38;5;28mself\u001b[39m._cmp_method(other, operator.eq)\n",
      "\u001b[36mFile \u001b[39m\u001b[32m/opt/anaconda3/envs/bioinformatics_a1/lib/python3.12/site-packages/pandas/core/indexes/base.py:7185\u001b[39m, in \u001b[36mIndex._cmp_method\u001b[39m\u001b[34m(self, other, op)\u001b[39m\n\u001b[32m   7180\u001b[39m         \u001b[38;5;28;01mreturn\u001b[39;00m arr\n\u001b[32m   7182\u001b[39m \u001b[38;5;28;01mif\u001b[39;00m \u001b[38;5;28misinstance\u001b[39m(other, (np.ndarray, Index, ABCSeries, ExtensionArray)) \u001b[38;5;129;01mand\u001b[39;00m \u001b[38;5;28mlen\u001b[39m(\n\u001b[32m   7183\u001b[39m     \u001b[38;5;28mself\u001b[39m\n\u001b[32m   7184\u001b[39m ) != \u001b[38;5;28mlen\u001b[39m(other):\n\u001b[32m-> \u001b[39m\u001b[32m7185\u001b[39m     \u001b[38;5;28;01mraise\u001b[39;00m \u001b[38;5;167;01mValueError\u001b[39;00m(\u001b[33m\"\u001b[39m\u001b[33mLengths must match to compare\u001b[39m\u001b[33m\"\u001b[39m)\n\u001b[32m   7187\u001b[39m \u001b[38;5;28;01mif\u001b[39;00m \u001b[38;5;129;01mnot\u001b[39;00m \u001b[38;5;28misinstance\u001b[39m(other, ABCMultiIndex):\n\u001b[32m   7188\u001b[39m     other = extract_array(other, extract_numpy=\u001b[38;5;28;01mTrue\u001b[39;00m)\n",
      "\u001b[31mValueError\u001b[39m: Lengths must match to compare"
     ]
    }
   ],
   "source": [
    "assert all(hits.columns == query.columns), \"Columns in hits and query do not match\""
   ]
  },
  {
   "cell_type": "code",
   "execution_count": null,
   "id": "594953f6",
   "metadata": {},
   "outputs": [],
   "source": [
    "filtered_hits = pd.read_csv(datapath + \"barcode13-filtered-hits.csv\")"
   ]
  },
  {
   "cell_type": "code",
   "execution_count": null,
   "id": "fde35b76",
   "metadata": {},
   "outputs": [],
   "source": [
    "filtered_hits = filtered_hits.apply(split_query_name, axis=1)"
   ]
  },
  {
   "cell_type": "code",
   "execution_count": null,
   "id": "b7e431c0",
   "metadata": {},
   "outputs": [
    {
     "data": {
      "text/plain": [
       "Index(['# Source Sequences', '% Identical Sites', '% Pairwise Identity',\n",
       "       'Created Date', 'Description', 'Free end gaps', 'Mean Coverage',\n",
       "       'Modified', 'Name', 'Sample', 'Sequence', 'Sequence List Name',\n",
       "       'Topology', 'URN', 'barcode', 'barcode_alias',\n",
       "       'basecall_model_version_id', 'ch', 'flow_cell_id', 'parent_read_id',\n",
       "       'protocol_group_id', 'runid', 'sample_id', 'start_time'],\n",
       "      dtype='object')"
      ]
     },
     "execution_count": 62,
     "metadata": {},
     "output_type": "execute_result"
    }
   ],
   "source": [
    "filtered_hits.columns"
   ]
  },
  {
   "cell_type": "code",
   "execution_count": null,
   "id": "92d3e9c2",
   "metadata": {},
   "outputs": [
    {
     "ename": "KeyError",
     "evalue": "'parent_read_id'",
     "output_type": "error",
     "traceback": [
      "\u001b[31m---------------------------------------------------------------------------\u001b[39m",
      "\u001b[31mKeyError\u001b[39m                                  Traceback (most recent call last)",
      "\u001b[36mFile \u001b[39m\u001b[32m~/bioinformatics/workflows/analysis-tools/.venv/lib/python3.12/site-packages/pandas/core/indexes/base.py:3805\u001b[39m, in \u001b[36mIndex.get_loc\u001b[39m\u001b[34m(self, key)\u001b[39m\n\u001b[32m   3804\u001b[39m \u001b[38;5;28;01mtry\u001b[39;00m:\n\u001b[32m-> \u001b[39m\u001b[32m3805\u001b[39m     \u001b[38;5;28;01mreturn\u001b[39;00m \u001b[38;5;28;43mself\u001b[39;49m\u001b[43m.\u001b[49m\u001b[43m_engine\u001b[49m\u001b[43m.\u001b[49m\u001b[43mget_loc\u001b[49m\u001b[43m(\u001b[49m\u001b[43mcasted_key\u001b[49m\u001b[43m)\u001b[49m\n\u001b[32m   3806\u001b[39m \u001b[38;5;28;01mexcept\u001b[39;00m \u001b[38;5;167;01mKeyError\u001b[39;00m \u001b[38;5;28;01mas\u001b[39;00m err:\n",
      "\u001b[36mFile \u001b[39m\u001b[32mindex.pyx:167\u001b[39m, in \u001b[36mpandas._libs.index.IndexEngine.get_loc\u001b[39m\u001b[34m()\u001b[39m\n",
      "\u001b[36mFile \u001b[39m\u001b[32mindex.pyx:196\u001b[39m, in \u001b[36mpandas._libs.index.IndexEngine.get_loc\u001b[39m\u001b[34m()\u001b[39m\n",
      "\u001b[36mFile \u001b[39m\u001b[32mpandas/_libs/hashtable_class_helper.pxi:7081\u001b[39m, in \u001b[36mpandas._libs.hashtable.PyObjectHashTable.get_item\u001b[39m\u001b[34m()\u001b[39m\n",
      "\u001b[36mFile \u001b[39m\u001b[32mpandas/_libs/hashtable_class_helper.pxi:7089\u001b[39m, in \u001b[36mpandas._libs.hashtable.PyObjectHashTable.get_item\u001b[39m\u001b[34m()\u001b[39m\n",
      "\u001b[31mKeyError\u001b[39m: 'parent_read_id'",
      "\nThe above exception was the direct cause of the following exception:\n",
      "\u001b[31mKeyError\u001b[39m                                  Traceback (most recent call last)",
      "\u001b[36mCell\u001b[39m\u001b[36m \u001b[39m\u001b[32mIn[58]\u001b[39m\u001b[32m, line 1\u001b[39m\n\u001b[32m----> \u001b[39m\u001b[32m1\u001b[39m hits[hits[\u001b[33m\"\u001b[39m\u001b[33mparent_read_id\u001b[39m\u001b[33m\"\u001b[39m] != \u001b[43mfiltered_hits\u001b[49m\u001b[43m[\u001b[49m\u001b[33;43m\"\u001b[39;49m\u001b[33;43mparent_read_id\u001b[39;49m\u001b[33;43m\"\u001b[39;49m\u001b[43m]\u001b[49m]\n",
      "\u001b[36mFile \u001b[39m\u001b[32m~/bioinformatics/workflows/analysis-tools/.venv/lib/python3.12/site-packages/pandas/core/frame.py:4102\u001b[39m, in \u001b[36mDataFrame.__getitem__\u001b[39m\u001b[34m(self, key)\u001b[39m\n\u001b[32m   4100\u001b[39m \u001b[38;5;28;01mif\u001b[39;00m \u001b[38;5;28mself\u001b[39m.columns.nlevels > \u001b[32m1\u001b[39m:\n\u001b[32m   4101\u001b[39m     \u001b[38;5;28;01mreturn\u001b[39;00m \u001b[38;5;28mself\u001b[39m._getitem_multilevel(key)\n\u001b[32m-> \u001b[39m\u001b[32m4102\u001b[39m indexer = \u001b[38;5;28;43mself\u001b[39;49m\u001b[43m.\u001b[49m\u001b[43mcolumns\u001b[49m\u001b[43m.\u001b[49m\u001b[43mget_loc\u001b[49m\u001b[43m(\u001b[49m\u001b[43mkey\u001b[49m\u001b[43m)\u001b[49m\n\u001b[32m   4103\u001b[39m \u001b[38;5;28;01mif\u001b[39;00m is_integer(indexer):\n\u001b[32m   4104\u001b[39m     indexer = [indexer]\n",
      "\u001b[36mFile \u001b[39m\u001b[32m~/bioinformatics/workflows/analysis-tools/.venv/lib/python3.12/site-packages/pandas/core/indexes/base.py:3812\u001b[39m, in \u001b[36mIndex.get_loc\u001b[39m\u001b[34m(self, key)\u001b[39m\n\u001b[32m   3807\u001b[39m     \u001b[38;5;28;01mif\u001b[39;00m \u001b[38;5;28misinstance\u001b[39m(casted_key, \u001b[38;5;28mslice\u001b[39m) \u001b[38;5;129;01mor\u001b[39;00m (\n\u001b[32m   3808\u001b[39m         \u001b[38;5;28misinstance\u001b[39m(casted_key, abc.Iterable)\n\u001b[32m   3809\u001b[39m         \u001b[38;5;129;01mand\u001b[39;00m \u001b[38;5;28many\u001b[39m(\u001b[38;5;28misinstance\u001b[39m(x, \u001b[38;5;28mslice\u001b[39m) \u001b[38;5;28;01mfor\u001b[39;00m x \u001b[38;5;129;01min\u001b[39;00m casted_key)\n\u001b[32m   3810\u001b[39m     ):\n\u001b[32m   3811\u001b[39m         \u001b[38;5;28;01mraise\u001b[39;00m InvalidIndexError(key)\n\u001b[32m-> \u001b[39m\u001b[32m3812\u001b[39m     \u001b[38;5;28;01mraise\u001b[39;00m \u001b[38;5;167;01mKeyError\u001b[39;00m(key) \u001b[38;5;28;01mfrom\u001b[39;00m\u001b[38;5;250m \u001b[39m\u001b[34;01merr\u001b[39;00m\n\u001b[32m   3813\u001b[39m \u001b[38;5;28;01mexcept\u001b[39;00m \u001b[38;5;167;01mTypeError\u001b[39;00m:\n\u001b[32m   3814\u001b[39m     \u001b[38;5;66;03m# If we have a listlike key, _check_indexing_error will raise\u001b[39;00m\n\u001b[32m   3815\u001b[39m     \u001b[38;5;66;03m#  InvalidIndexError. Otherwise we fall through and re-raise\u001b[39;00m\n\u001b[32m   3816\u001b[39m     \u001b[38;5;66;03m#  the TypeError.\u001b[39;00m\n\u001b[32m   3817\u001b[39m     \u001b[38;5;28mself\u001b[39m._check_indexing_error(key)\n",
      "\u001b[31mKeyError\u001b[39m: 'parent_read_id'"
     ]
    }
   ],
   "source": [
    "hits[hits[\"parent_read_id\"] != filtered_hits[\"parent_read_id\"]]"
   ]
  },
  {
   "cell_type": "markdown",
   "id": "de495277",
   "metadata": {},
   "source": [
    "# Number of Unique Organisms Found"
   ]
  },
  {
   "cell_type": "code",
   "execution_count": 18,
   "id": "ea7a46d1",
   "metadata": {},
   "outputs": [
    {
     "data": {
      "text/plain": [
       "array(['Rubrivivax gelatinosus', 'Candidatus Viadribacter',\n",
       "       'Kaustia mangrovi', 'Marinomonas arctica', 'Enterococcus faecium',\n",
       "       'MAG: Burkholderiales', 'Aquabacterium sp.',\n",
       "       'Agrobacterium pusense', 'Acinetobacter baumannii',\n",
       "       'Aspergillus citrinoterreus', 'Klebsiella pneumoniae',\n",
       "       'Escherichia coli', 'Mus musculus', 'MAG: Pyrinomonadaceae',\n",
       "       'MAG: Terriglobia', 'MAG: Phototrophicaceae', 'MAG: Hoeflea',\n",
       "       'MAG: Alphaproteobacteria', 'MAG: Gammaproteobacteria',\n",
       "       'Escherichia phage'], dtype=object)"
      ]
     },
     "execution_count": 18,
     "metadata": {},
     "output_type": "execute_result"
    }
   ],
   "source": [
    "c_hits['Organism'].unique()"
   ]
  }
 ],
 "metadata": {
  "kernelspec": {
   "display_name": "bioinformatics_a1",
   "language": "python",
   "name": "python3"
  },
  "language_info": {
   "codemirror_mode": {
    "name": "ipython",
    "version": 3
   },
   "file_extension": ".py",
   "mimetype": "text/x-python",
   "name": "python",
   "nbconvert_exporter": "python",
   "pygments_lexer": "ipython3",
   "version": "3.12.9"
  }
 },
 "nbformat": 4,
 "nbformat_minor": 5
}
