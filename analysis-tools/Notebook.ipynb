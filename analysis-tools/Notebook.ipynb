{
 "cells": [
  {
   "cell_type": "code",
   "execution_count": 94,
   "id": "a07bd093",
   "metadata": {},
   "outputs": [],
   "source": [
    "# Import necessary libraries\n",
    "import pandas as pd\n",
    "import numpy as np\n",
    "import os\n",
    "# For Analysis\n",
    "import ipywidgets as widgets\n",
    "from IPython.display import display, clear_output"
   ]
  },
  {
   "cell_type": "markdown",
   "id": "6a5e0f99",
   "metadata": {},
   "source": [
    "# Aquiring Data\n",
    "\n",
    "This will aquire the data from Drive once fully developed. Currently getting it from the data folder that is being ignored in Github. Right now, we are only getting it from folders Hits and Query, not Assembly."
   ]
  },
  {
   "cell_type": "code",
   "execution_count": 95,
   "id": "ceca7592",
   "metadata": {},
   "outputs": [],
   "source": [
    "#This will have to change after we set it up to pull from Drive\n",
    "datapath =  os.getcwd() + \"/data/\""
   ]
  },
  {
   "cell_type": "code",
   "execution_count": 96,
   "id": "ad79e2db",
   "metadata": {},
   "outputs": [],
   "source": [
    "# Getting our dataframe. Currently hardcoded with the name of the csv.\n",
    "query = pd.read_csv(datapath + \"query.csv\")\n",
    "hits = pd.read_csv(datapath + \"hits.csv\")\n",
    "assembly = pd.read_csv(datapath + \"assembly.csv\")"
   ]
  },
  {
   "cell_type": "markdown",
   "id": "d39fe8c3",
   "metadata": {},
   "source": [
    "# Cleaning Data\n",
    "\n",
    "This section cleans the data and also shows exactly what was dropped/manipulated."
   ]
  },
  {
   "cell_type": "code",
   "execution_count": 97,
   "id": "ea112f62",
   "metadata": {},
   "outputs": [],
   "source": [
    "# These functions are for later exception raising/preliminary analysis of the actual csv structure.\n",
    "# They are mainly for cleaning the data, analysis functions will be later/in a different block.\n",
    "def compare_columns_sets(df1,df2):\n",
    "    set1_c, set2_c = set(df1.columns), set(df2.columns)\n",
    "    # \"a - b\" removes the items in a that it shares with b. (just look up set theory)\n",
    "    df1_dif = set1_c - set2_c\n",
    "    df2_dif = set2_c - set1_c\n",
    "    return df1_dif, df2_dif\n",
    "\n",
    "def drop_nan_columns(df):\n",
    "    dropped_df = df.dropna(axis=1,how='all')\n",
    "    return dropped_df\n",
    "\n",
    "def unusual_row_mask(df, col, threshold=0.5):\n",
    "    \"\"\"Return a Boolean mask for rows where the column has values,\n",
    "    but the column is mostly NaN based on the threshold.\"\"\"\n",
    "    if df[col].isna().mean() >= threshold:\n",
    "        return df[col].notna()\n",
    "    return pd.Series([False] * len(df), index=df.index)\n",
    "\n",
    "def get_peculiar_columns(df,threshold=0.5):\n",
    "    return (df.isnull().sum() / df.shape[0])[df.isnull().sum() / df.shape[0] > threshold]\n",
    "\n",
    "def rows_for_peculiar_columns(df,threshold=0.5):\n",
    "    masks = {}\n",
    "    p_series = get_peculiar_columns(df,threshold)\n",
    "    for p_col in p_series.index:\n",
    "        mask = unusual_row_mask(df, p_col, threshold)\n",
    "        if mask.any():  # Only keep masks that select at least one row. A dictionary\n",
    "            masks[p_col] = mask\n",
    "    return masks\n",
    "\n",
    "def split_query_name(row,splitting_column='Name'):\n",
    "    name = row[splitting_column]\n",
    "    name = name.split()\n",
    "    for item in name:\n",
    "        if \"=\" in item:\n",
    "            item = item.split(\"=\")\n",
    "            if item[1] == '' or item[1] == ' ' or item[1] == []:\n",
    "                item[1] = np.nan\n",
    "            row[item[0]] = item[1]\n",
    "    return row\n",
    "\n",
    "def compare_columns_rowwise(df, col1, col2):\n",
    "    \"\"\"\n",
    "    Compare two columns in a DataFrame row-wise.\n",
    "    Returns:\n",
    "        -1 if all values are the same in every row,\n",
    "        otherwise, a tuple of row indices where values differ.\n",
    "    \"\"\"\n",
    "    mask = df[col1] != df[col2]\n",
    "    diff_indices = tuple(df.index[mask])\n",
    "    return -1 if not diff_indices else diff_indices\n",
    "\n",
    "def combine_col1_into_col2(df, col1, col2):\n",
    "    df.loc[:,col2] = df.loc[:,col1]\n",
    "    return df.drop(columns=[col1], axis=1)  # Drops col1 after combining\n"
   ]
  },
  {
   "cell_type": "code",
   "execution_count": 98,
   "id": "2b8db8a7",
   "metadata": {},
   "outputs": [],
   "source": [
    "# Weirder functions that needed to be used for contig relationship mapping between dataframes.\n",
    "def group_column_values_into_mutliple_series(df, grouping_col, grouped_col):\n",
    "    \"\"\"\n",
    "    Groups the values of a specified column in a DataFrame into multiple Series returned in a Tuple.\n",
    "    \"\"\"\n",
    "    unique_to_group_by = df[grouping_col].unique()\n",
    "    # will take the unique to group by values and group the grouped_col by them based on the values in the grouping_col.\n",
    "    listed_series = []\n",
    "    for cell_value in unique_to_group_by:\n",
    "        temp_df = df[df[grouping_col] == cell_value]\n",
    "        temp_series = pd.Series(temp_df[grouped_col].values, name=cell_value)\n",
    "        listed_series.append(temp_series)\n",
    "\n",
    "    return listed_series\n",
    "\n",
    "def make_np_select_from_series_list(series_list, df, value_check_col):\n",
    "\n",
    "    conditions = [df[value_check_col].isin(series) for series in series_list]\n",
    "    choices = [series.name for series in series_list]\n",
    "\n",
    "    # Raise error if length of conditions and choices do not match\n",
    "    if len(conditions) != len(choices):\n",
    "        raise ValueError(\"Length of conditions and choices do not match. Check the series list and DataFrame.\")\n",
    "\n",
    "    return conditions, choices\n",
    "\n",
    "def make_new_column_from_grouping_of_other_df(from_df, grouping_col, grouped_col, to_df, value_check_col, new_col_name):\n",
    "    \"\"\"\n",
    "    Creates a new column in `to_df` based on the grouping of values from `from_df`. Each unique value in 'grouping col' takes\n",
    "    the values from 'grouped col' and checks if they are present in `to_df` under `value_check_col`. If they are, it assigns\n",
    "    the corresponding label from `grouped_col` to the new column in `to_df`.\n",
    "    Args:\n",
    "        from_df (Dataframe): Dataframe containing the grouping and grouped columns.\n",
    "        grouping_col (String): Column that contains the values to group by.\n",
    "        grouped_col (String): Column that \n",
    "        to_df (Dataframe): _description_\n",
    "        value_check_col (String): _description_\n",
    "        new_col_name (String): _description_\n",
    "    \"\"\"\n",
    "\n",
    "\n",
    "    list_series_values = group_column_values_into_mutliple_series(from_df, grouping_col, grouped_col)\n",
    "    conditions, choices = make_np_select_from_series_list(list_series_values, to_df, value_check_col)\n",
    "    to_df[new_col_name] = np.select(conditions, choices, default=\"nan\")\n"
   ]
  },
  {
   "cell_type": "markdown",
   "id": "102fee1c",
   "metadata": {},
   "source": [
    "### Immediate Cleanup\n",
    "\n",
    "Some of the data has all NaN values for certain columns, so they need to be cleaned up. Also, some qualities of the unclean data are shown."
   ]
  },
  {
   "cell_type": "code",
   "execution_count": 99,
   "id": "7deac7d0",
   "metadata": {},
   "outputs": [
    {
     "name": "stdout",
     "output_type": "stream",
     "text": [
      "For dropped query ({'Sequence List Name'}, set())\n",
      "For dropped hits ({'Query Id', 'Ref Seq Name'}, set())\n",
      "Merged Created Date into Created in both query and hits.\n"
     ]
    }
   ],
   "source": [
    "# Drops missing columns and combines same columns.\n",
    "dropped_query = drop_nan_columns(query)\n",
    "dropped_hits = drop_nan_columns(hits)\n",
    "# Error check. Make Better Later\n",
    "\n",
    "print(\"For dropped query\", compare_columns_sets(query,dropped_query))\n",
    "\n",
    "print(\"For dropped hits\", compare_columns_sets(hits,dropped_hits))\n",
    "\n",
    "if compare_columns_rowwise(dropped_query, 'Created Date', 'Created') != -1:\n",
    "     raise ValueError(compare_columns_rowwise(dropped_query, 'Created Date', 'Created'), \"are the rows where Created Date and Created differ.\")\n",
    "\n",
    "if compare_columns_rowwise(dropped_hits, 'Created Date', 'Created') != -1:\n",
    "    raise ValueError(compare_columns_rowwise(dropped_hits, 'Created Date', 'Created'), \"are the rows where Created Date and Created differ.\")\n",
    "\n",
    "# Combines Created Date into Created\n",
    "dropped_query = combine_col1_into_col2(dropped_query, 'Created Date', 'Created')\n",
    "dropped_hits = combine_col1_into_col2(dropped_hits, 'Created Date', 'Created')\n",
    "print(\"Merged Created Date into Created in both query and hits.\")"
   ]
  },
  {
   "cell_type": "markdown",
   "id": "145e99ad",
   "metadata": {},
   "source": [
    "### Metadata Cleanup\n",
    "\n",
    "The exportation from Geneious Prime has extra data in Name and Query from the sequences in the folders Query and Hits respectively. These will enable us to partially link them together later in analysis.\n",
    "\n",
    "This next block shows exactly what we have to split up in our data, as Geneious prime put more data inside certain cells than others."
   ]
  },
  {
   "cell_type": "code",
   "execution_count": 100,
   "id": "cc662f8d",
   "metadata": {},
   "outputs": [
    {
     "name": "stdout",
     "output_type": "stream",
     "text": [
      "There's metadata in certain cells.\n",
      "From the Query column in hits:\n",
      " Query    ace289cb-a9d5-470a-9e5f-86a43409224e runid=d0b33ea7460a391678012986097c20ea1c294534 ch=328 start_time=2025-02-25T14:51:59.325974-06:00 flow_cell_id=FBA87864 protocol_group_id=B3_T9_Seq_Run_25_02_25 sample_id= barcode=barcode13 barcode_alias=barcode13 parent_read_id=ace289cb-a9d5-470a-9e5f-86a43409224e basecall_model_version_id=dna_r10.4.1_e8.2_400bps_hac@v4.3.0\n",
      "Name: 10, dtype: object\n",
      "\n",
      "From the Name column in query:\n",
      " Name    1a42e9ad-2006-4a0d-8c47-45e11a2a0354 runid=d0b33ea7460a391678012986097c20ea1c294534 ch=358 start_time=2025-02-26T05:02:08.325974-06:00 flow_cell_id=FBA87864 protocol_group_id=B3_T9_Seq_Run_25_02_25 sample_id= barcode=barcode13 barcode_alias=barcode13 parent_read_id=1a42e9ad-2006-4a0d-8c47-45e11a2a0354 basecall_model_version_id=dna_r10.4.1_e8.2_400bps_hac@v4.3.0\n",
      "Name: 20, dtype: object\n"
     ]
    }
   ],
   "source": [
    "# Shows the peculiar columns in the query and hits.\n",
    "print(\"There's metadata in certain cells.\")\n",
    "# Arbitrary row chosen to demonstrate the metadata.\n",
    "query_val = dropped_hits.loc[10,[\"Query\"]]\n",
    "pd.set_option('display.max_colwidth', None)\n",
    "print(\"From the Query column in hits:\\n\", query_val)\n",
    "name_val = dropped_query.loc[20,[\"Name\"]]\n",
    "print(\"\\nFrom the Name column in query:\\n\", name_val)"
   ]
  },
  {
   "cell_type": "markdown",
   "id": "8edfd2d8",
   "metadata": {},
   "source": [
    "Yet, for our queries that were contigs, the \"Name\" does not have the extra data (as it is just named \"Contig #\", so we lose a lot of extra data). We need to split the query dataframe."
   ]
  },
  {
   "cell_type": "code",
   "execution_count": 101,
   "id": "1b005066",
   "metadata": {},
   "outputs": [
    {
     "name": "stdout",
     "output_type": "stream",
     "text": [
      "These keys are what contigs but not regular sequences have:\n",
      " dict_keys(['# Source Sequences', '% Identical Sites', '% Pairwise Identity', 'Description', 'Free end gaps', 'Mean Coverage', 'Sample'])\n"
     ]
    }
   ],
   "source": [
    "# Splits the query table into the contigs and noncontigs. + a TODO\n",
    "# TODO May need to do equals() to see if each column really does correspond to a contig.\n",
    "query_masks = rows_for_peculiar_columns(dropped_query)\n",
    "print(\"These keys are what contigs but not regular sequences have:\\n\", query_masks.keys())\n",
    "contig_query = dropped_query[query_masks['# Source Sequences']]\n",
    "noncontig_query = drop_nan_columns(dropped_query[~query_masks['# Source Sequences']])"
   ]
  },
  {
   "cell_type": "markdown",
   "id": "1404b741",
   "metadata": {},
   "source": [
    "Some of the extra data, doesn't actually have extra data, so that also needs to be cleaned up."
   ]
  },
  {
   "cell_type": "code",
   "execution_count": 102,
   "id": "ddb6e1ac",
   "metadata": {},
   "outputs": [],
   "source": [
    "# Splits our data up and gets the weird cell split up. Also drops sample_id as there is none.\n",
    "clean_contig_query = contig_query.apply(split_query_name, axis=1) # Nothing happens as Name is just Contig #.\n",
    "clean_noncontig_query = drop_nan_columns(noncontig_query.apply(split_query_name, axis=1))\n",
    "clean_hits = drop_nan_columns(dropped_hits.apply(split_query_name, axis=1, splitting_column=\"Query\"))"
   ]
  },
  {
   "cell_type": "code",
   "execution_count": 103,
   "id": "0f411024",
   "metadata": {},
   "outputs": [
    {
     "name": "stdout",
     "output_type": "stream",
     "text": [
      "This is what is uniquely inside contigs:\n",
      " {'% Pairwise Identity', 'Sample', '# Source Sequences', 'Description', '% Identical Sites', 'Mean Coverage', 'Free end gaps'} \n",
      "This is what is uniquely in non-contigs:\n",
      " {'flow_cell_id', 'ch', 'barcode_alias', 'runid', 'protocol_group_id', 'basecall_model_version_id', 'start_time', 'barcode', 'parent_read_id'}\n"
     ]
    }
   ],
   "source": [
    "# Shows unique columns in contigs and non-contigs queries.\n",
    "in_contig, not_in_contig = compare_columns_sets(clean_contig_query, clean_noncontig_query)\n",
    "print(\"This is what is uniquely inside contigs:\\n\", in_contig, \"\\nThis is what is uniquely in non-contigs:\\n\", not_in_contig)"
   ]
  },
  {
   "cell_type": "code",
   "execution_count": 104,
   "id": "840608d4",
   "metadata": {},
   "outputs": [],
   "source": [
    "# Combine 'barcode' and 'barcode_alias' into 'barcode' \n",
    "clean_noncontig_query = combine_col1_into_col2(clean_noncontig_query, 'barcode_alias', 'barcode')\n",
    "clean_hits = combine_col1_into_col2(clean_hits, 'barcode_alias', 'barcode')"
   ]
  },
  {
   "cell_type": "code",
   "execution_count": 105,
   "id": "5b5ec0da",
   "metadata": {},
   "outputs": [],
   "source": [
    "# TODO Vectorize this.\n",
    "# clean_contig_query does not have 'barcode' or 'protocol_group_id' columns, so we need to set them to a single value.\n",
    "for col in ['barcode', 'protocol_group_id','runid']:\n",
    "    if col in clean_noncontig_query.columns:\n",
    "        unique_vals = clean_noncontig_query[col].dropna().unique()\n",
    "        # The following check ensures that there is only one unique value in the column.\n",
    "        if len(unique_vals) > 1:\n",
    "            raise ValueError(f\"More than one unique value found in '{col}' column.\")\n",
    "        val = unique_vals[0] if len(unique_vals) > 0 else None\n",
    "        clean_contig_query[col] = val"
   ]
  },
  {
   "cell_type": "code",
   "execution_count": 106,
   "id": "1e00823d",
   "metadata": {},
   "outputs": [],
   "source": [
    "# Cleaning clean_hits where they are contigs.\n",
    "# This is where we will add the barcode and protocol_group_id.\n",
    "# We will also fill in the parent_read_id with the Query column.\n",
    "\n",
    "clean_hits[['barcode', 'protocol_group_id','runid']] = clean_hits[['barcode', 'protocol_group_id','runid']].bfill().ffill()\n",
    "clean_hits['parent_read_id'] = clean_hits['parent_read_id'].fillna(clean_hits['Query'])"
   ]
  },
  {
   "cell_type": "markdown",
   "id": "85547e35",
   "metadata": {},
   "source": [
    "Final look at what the dataframe looks like along with final bug tests before analysis."
   ]
  },
  {
   "cell_type": "code",
   "execution_count": 107,
   "id": "4fb35f11",
   "metadata": {},
   "outputs": [
    {
     "name": "stdout",
     "output_type": "stream",
     "text": [
      "From a row in c_hits:\n",
      " # Nucleotides                                                                                                                                                                                                                                                                                                                                                                                         58\n",
      "# Sequences                                                                                                                                                                                                                                                                                                                                                                                            2\n",
      "% GC                                                                                                                                                                                                                                                                                                                                                                                               58.6%\n",
      "% Identical Sites                                                                                                                                                                                                                                                                                                                                                                                 100.0%\n",
      "% Pairwise Identity                                                                                                                                                                                                                                                                                                                                                                               100.0%\n",
      "Accession                                                                                                                                                                                                                                                                                                                                                                                       CP013244\n",
      "Bit-Score                                                                                                                                                                                                                                                                                                                                                                                        54.6731\n",
      "Created                                                                                                                                                                                                                                                                                                                                                                     Tue Jun 03 10:14:50 CDT 2025\n",
      "Database                                                                                                                                                                                                                                                                                                                                                                                         core_nt\n",
      "Description                                                                                                                                                                                                                                                                                                                   Candidatus Viadribacter manganicus strain A272 chromosome, complete genome\n",
      "E Value                                                                                                                                                                                                                                                                                                                                                                                          0.00205\n",
      "Free end gaps                                                                                                                                                                                                                                                                                                                                                                                       True\n",
      "Grade                                                                                                                                                                                                                                                                                                                                                                                              39.2%\n",
      "Hit end                                                                                                                                                                                                                                                                                                                                                                                          1179941\n",
      "Hit start                                                                                                                                                                                                                                                                                                                                                                                        1179969\n",
      "Max Sequence Length                                                                                                                                                                                                                                                                                                                                                                                   29\n",
      "Mean Coverage                                                                                                                                                                                                                                                                                                                                                                                        2.0\n",
      "Min Sequence Length                                                                                                                                                                                                                                                                                                                                                                                   29\n",
      "Modified                                                                                                                                                                                                                                                                                                                                                                    Tue Jun 03 10:14:13 CDT 2025\n",
      "Molecular Weight (kDa)                                                                                                                                                                                                                                                                                                                                                                           8.90974\n",
      "Molecule Type                                                                                                                                                                                                                                                                                                                                                                                        DNA\n",
      "Name                                                                                                                                                                                                                                                                                                                                                                                            CP013244\n",
      "Organism                                                                                                                                                                                                                                                                                                                                                                         Candidatus Viadribacter\n",
      "Original Query Frame                                                                                                                                                                                                                                                                                                                                                                                   1\n",
      "Query                        c7345a2a-ea63-4302-9ccf-df211e3e108d runid=d0b33ea7460a391678012986097c20ea1c294534 ch=252 start_time=2025-02-25T09:43:53.325974-06:00 flow_cell_id=FBA87864 protocol_group_id=B3_T9_Seq_Run_25_02_25 sample_id= barcode=barcode13 barcode_alias=barcode13 parent_read_id=c7345a2a-ea63-4302-9ccf-df211e3e108d basecall_model_version_id=dna_r10.4.1_e8.2_400bps_hac@v4.3.0\n",
      "Query coverage                                                                                                                                                                                                                                                                                                                                                                                    28.43%\n",
      "Query end                                                                                                                                                                                                                                                                                                                                                                                             29\n",
      "Query start                                                                                                                                                                                                                                                                                                                                                                                            1\n",
      "Ref Seq Index                                                                                                                                                                                                                                                                                                                                                                                         -1\n",
      "Ref Seq Length                                                                                                                                                                                                                                                                                                                                                                                         0\n",
      "Rough Temperature (°C)                                                                                                                                                                                                                                                                                                                                                                          70.92069\n",
      "Sequence                                                                                                                                                                                                                                                                                                                                                                   ACGGCTATCGCAACGTCTACGAACTCGGC\n",
      "Sequence Length                                                                                                                                                                                                                                                                                                                                                                                       29\n",
      "Topology                                                                                                                                                                                                                                                                                                                                                                                          linear\n",
      "URN                                                                                                                                                                                                                                                                                                                                                                              urn:local:.:ess-j8w0l84\n",
      "barcode                                                                                                                                                                                                                                                                                                                                                                                        barcode13\n",
      "basecall_model_version_id                                                                                                                                                                                                                                                                                                                                             dna_r10.4.1_e8.2_400bps_hac@v4.3.0\n",
      "ch                                                                                                                                                                                                                                                                                                                                                                                                   252\n",
      "flow_cell_id                                                                                                                                                                                                                                                                                                                                                                                    FBA87864\n",
      "parent_read_id                                                                                                                                                                                                                                                                                                                                                      c7345a2a-ea63-4302-9ccf-df211e3e108d\n",
      "protocol_group_id                                                                                                                                                                                                                                                                                                                                                                 B3_T9_Seq_Run_25_02_25\n",
      "runid                                                                                                                                                                                                                                                                                                                                                           d0b33ea7460a391678012986097c20ea1c294534\n",
      "start_time                                                                                                                                                                                                                                                                                                                                                              2025-02-25T09:43:53.325974-06:00\n",
      "Name: 1, dtype: object\n"
     ]
    }
   ],
   "source": [
    "# Columns in c_hits\n",
    "c_hits_val = clean_hits.loc[1, :]\n",
    "pd.set_option('display.max_colwidth', None)\n",
    "print(\"From a row in c_hits:\\n\", c_hits_val)"
   ]
  },
  {
   "cell_type": "code",
   "execution_count": 108,
   "id": "398479b3",
   "metadata": {},
   "outputs": [
    {
     "name": "stdout",
     "output_type": "stream",
     "text": [
      "Columns (+ examples) in c_contig_query:\n",
      "\n",
      "Name                                                                                                                                                                                                                                                                                                                                                                                                                                                                                                                                                                                                                             Contig 4\n",
      "# Source Sequences                                                                                                                                                                                                                                                                                                                                                                                                                                                                                                                                                                                                                    2.0\n",
      "% GC                                                                                                                                                                                                                                                                                                                                                                                                                                                                                                                                                                                                                                38.4%\n",
      "% HQ                                                                                                                                                                                                                                                                                                                                                                                                                                                                                                                                                                                                                                63.8%\n",
      "% Identical Sites                                                                                                                                                                                                                                                                                                                                                                                                                                                                                                                                                                                                                  100.0%\n",
      "% LQ                                                                                                                                                                                                                                                                                                                                                                                                                                                                                                                                                                                                                                 5.6%\n",
      "% MQ                                                                                                                                                                                                                                                                                                                                                                                                                                                                                                                                                                                                                                30.6%\n",
      "% Pairwise Identity                                                                                                                                                                                                                                                                                                                                                                                                                                                                                                                                                                                                                100.0%\n",
      "Ambiguities                                                                                                                                                                                                                                                                                                                                                                                                                                                                                                                                                                                                                             0\n",
      "At least Q20                                                                                                                                                                                                                                                                                                                                                                                                                                                                                                                                                                                                                       94.42%\n",
      "At least Q30                                                                                                                                                                                                                                                                                                                                                                                                                                                                                                                                                                                                                       87.31%\n",
      "At least Q40                                                                                                                                                                                                                                                                                                                                                                                                                                                                                                                                                                                                                       63.79%\n",
      "Bin                                                                                                                                                                                                                                                                                                                                                                                                                                                                                                                                                                                                                                <1>Low\n",
      "Created                                                                                                                                                                                                                                                                                                                                                                                                                                                                                                                                                                                                      Tue Jun 03 10:12:34 CDT 2025\n",
      "Description                                                                                                                                                                                                                                                                                                                                                                                                                                                                                                                                                                           2 reads from 135 documents assembled using Geneious\n",
      "Failed Binning Fields                                                                                                                                                                                                                                                                                                                                                                                                                                                                                                                                                                                                                % HQ\n",
      "Free end gaps                                                                                                                                                                                                                                                                                                                                                                                                                                                                                                                                                                                                                        True\n",
      "Mean Coverage                                                                                                                                                                                                                                                                                                                                                                                                                                                                                                                                                                                                                    1.445008\n",
      "Modified                                                                                                                                                                                                                                                                                                                                                                                                                                                                                                                                                                                                     Tue Jun 03 10:12:28 CDT 2025\n",
      "Molecular Weight (kDa)                                                                                                                                                                                                                                                                                                                                                                                                                                                                                                                                                                                                          182.36378\n",
      "Molecule Type                                                                                                                                                                                                                                                                                                                                                                                                                                                                                                                                                                                                                         DNA\n",
      "Post-Trim Length                                                                                                                                                                                                                                                                                                                                                                                                                                                                                                                                                                                                                      591\n",
      "Rough Temperature (°C)                                                                                                                                                                                                                                                                                                                                                                                                                                                                                                                                                                                                          83.948054\n",
      "Sample                                                                                                                                                                                                                                                                                                                                                                                                                                                                                                                                                                                                                      135 documents\n",
      "Sequence                  GTGTTAATAAAAGGACTTAAAAAGGTTGTAAATGTTAAATTCAAACATGCATCTTATAGAAACGTCCTATGATAGGTTGAAATCAAGAGAAATCACATTTCAGCAATACAGGGAAAATCTTGCTAAAGCAGGAGTTTTCCGATGGGTTACAAATATCCATGAACATAAAAGATATTACTATACCTTTGATAATTCATTACTATTTACTGAGAGCATTCAGAACACTACACAAATCTTTCCACGCTAAATCATAACGTCCGGTTTCTTCCGTGTCAGCACCGGGGCGTTGGCATAATGCAATACGTGTACGCGCTAAACCCTGTGTGCATCGTTTTAATTATTCCCGGACACTCCCGCAGAGAAGTTCCCCGTCAGGGCTGTGGACATAGTTAATCCGGGAATACAATGACGATTCATCGCACCTGACATACATTAATAAATATTAACAATATGAAATTTCAACTCATTGTTTAGGGTTTGTTTAATTTTCTACACATACGATTCTGCGAACTTCAAAAAGCATCGGGAATAACACCATGAAAAAAATGCTACTCGCTACTGCGCTGGCCCTGCTTATTACAGGATGTGCTC\n",
      "Sequence Length                                                                                                                                                                                                                                                                                                                                                                                                                                                                                                                                                                                                                       591\n",
      "Size                                                                                                                                                                                                                                                                                                                                                                                                                                                                                                                                                                                                                                 3 KB\n",
      "Topology                                                                                                                                                                                                                                                                                                                                                                                                                                                                                                                                                                                                                           linear\n",
      "URN                                                                                                                                                                                                                                                                                                                                                                                                                                                                                                                                                                                                               urn:local:.:bgu-j8w0aq4\n",
      "barcode                                                                                                                                                                                                                                                                                                                                                                                                                                                                                                                                                                                                                         barcode13\n",
      "protocol_group_id                                                                                                                                                                                                                                                                                                                                                                                                                                                                                                                                                                                                  B3_T9_Seq_Run_25_02_25\n",
      "runid                                                                                                                                                                                                                                                                                                                                                                                                                                                                                                                                                                                            d0b33ea7460a391678012986097c20ea1c294534\n",
      "Name: 768, dtype: object\n"
     ]
    }
   ],
   "source": [
    "# Columns in clean_contig_query\n",
    "c_contig_val = clean_contig_query.iloc[3,:]\n",
    "pd.set_option('display.max_colwidth', None)\n",
    "print(\"Columns (+ examples) in c_contig_query:\\n\")\n",
    "print(c_contig_val)"
   ]
  },
  {
   "cell_type": "code",
   "execution_count": 109,
   "id": "48aecefb",
   "metadata": {},
   "outputs": [
    {
     "name": "stdout",
     "output_type": "stream",
     "text": [
      "Columns (+ examples) in c_noncontig_query:\n",
      "\n",
      "Name                         0b0756a2-4c80-4d6a-b676-ef1e543a2d02 runid=d0b33ea7460a391678012986097c20ea1c294534 ch=86 start_time=2025-02-25T11:28:59.325974-06:00 flow_cell_id=FBA87864 protocol_group_id=B3_T9_Seq_Run_25_02_25 sample_id= barcode=barcode13 barcode_alias=barcode13 parent_read_id=0b0756a2-4c80-4d6a-b676-ef1e543a2d02 basecall_model_version_id=dna_r10.4.1_e8.2_400bps_hac@v4.3.0\n",
      "% GC                                                                                                                                                                                                                                                                                                                                                                                              40.0%\n",
      "% HQ                                                                                                                                                                                                                                                                                                                                                                                               8.6%\n",
      "% LQ                                                                                                                                                                                                                                                                                                                                                                                              14.3%\n",
      "% MQ                                                                                                                                                                                                                                                                                                                                                                                              77.1%\n",
      "Ambiguities                                                                                                                                                                                                                                                                                                                                                                                           0\n",
      "At least Q20                                                                                                                                                                                                                                                                                                                                                                                     85.71%\n",
      "At least Q30                                                                                                                                                                                                                                                                                                                                                                                     40.00%\n",
      "At least Q40                                                                                                                                                                                                                                                                                                                                                                                      8.57%\n",
      "Bin                                                                                                                                                                                                                                                                                                                                                                                              <1>Low\n",
      "Created                                                                                                                                                                                                                                                                                                                                                                    Tue Jun 03 10:12:30 CDT 2025\n",
      "Failed Binning Fields                                                                                                                                                                                                                                                                                                                                                            % HQ, Post-Trim Length\n",
      "Modified                                                                                                                                                                                                                                                                                                                                                                   Tue Jun 03 10:12:28 CDT 2025\n",
      "Molecular Weight (kDa)                                                                                                                                                                                                                                                                                                                                                                         10.81604\n",
      "Molecule Type                                                                                                                                                                                                                                                                                                                                                                                       DNA\n",
      "Post-Trim Length                                                                                                                                                                                                                                                                                                                                                                                     35\n",
      "Rough Temperature (°C)                                                                                                                                                                                                                                                                                                                                                                        67.128571\n",
      "Sequence                                                                                                                                                                                                                                                                                                                                                            ATTGCTAAGGTTAAAGAACGACTTCCATACTCGTG\n",
      "Sequence Length                                                                                                                                                                                                                                                                                                                                                                                      35\n",
      "Size                                                                                                                                                                                                                                                                                                                                                                                               1 KB\n",
      "Topology                                                                                                                                                                                                                                                                                                                                                                                         linear\n",
      "URN                                                                                                                                                                                                                                                                                                                                                                             urn:local:.:ac3-j8w0agv\n",
      "runid                                                                                                                                                                                                                                                                                                                                                          d0b33ea7460a391678012986097c20ea1c294534\n",
      "ch                                                                                                                                                                                                                                                                                                                                                                                                   86\n",
      "start_time                                                                                                                                                                                                                                                                                                                                                             2025-02-25T11:28:59.325974-06:00\n",
      "flow_cell_id                                                                                                                                                                                                                                                                                                                                                                                   FBA87864\n",
      "protocol_group_id                                                                                                                                                                                                                                                                                                                                                                B3_T9_Seq_Run_25_02_25\n",
      "barcode                                                                                                                                                                                                                                                                                                                                                                                       barcode13\n",
      "parent_read_id                                                                                                                                                                                                                                                                                                                                                     0b0756a2-4c80-4d6a-b676-ef1e543a2d02\n",
      "basecall_model_version_id                                                                                                                                                                                                                                                                                                                                            dna_r10.4.1_e8.2_400bps_hac@v4.3.0\n",
      "Name: 3, dtype: object\n"
     ]
    }
   ],
   "source": [
    "c_contig_val = clean_noncontig_query.iloc[3,:]\n",
    "pd.set_option('display.max_colwidth', None)\n",
    "print(\"Columns (+ examples) in c_noncontig_query:\\n\")\n",
    "print(c_contig_val)"
   ]
  },
  {
   "cell_type": "code",
   "execution_count": 110,
   "id": "57280492",
   "metadata": {},
   "outputs": [],
   "source": [
    "## TODO, make tests of data connections.\n",
    "#assert all(hits.columns == query.columns), \"Columns in hits and query do not match\"\n",
    "#assert all(hits.columns == query.columns), \"Columns in hits and query do not match\""
   ]
  },
  {
   "cell_type": "code",
   "execution_count": 111,
   "id": "594953f6",
   "metadata": {},
   "outputs": [],
   "source": [
    "## TODO, analysis of filtered workflow vs unfiltered workflow.\n",
    "#filtered_hits = pd.read_csv(datapath + \"barcode13-filtered-hits.csv\")\n",
    "#filtered_hits = filtered_hits.apply(split_query_name, axis=1)\n",
    "#filtered_hits.columns\n",
    "#hits[hits[\"parent_read_id\"] != filtered_hits[\"parent_read_id\"]]"
   ]
  },
  {
   "cell_type": "markdown",
   "id": "9cbd6d81",
   "metadata": {},
   "source": [
    "## Cleaning up Assembly CSV\n",
    "\n",
    "The assembly CSV is structured differently than the other two, so we are working with it separately."
   ]
  },
  {
   "cell_type": "code",
   "execution_count": 112,
   "id": "08fdb074",
   "metadata": {
    "vscode": {
     "languageId": "ruby"
    }
   },
   "outputs": [
    {
     "name": "stdout",
     "output_type": "stream",
     "text": [
      "Here are the contigs that we have in the assembly:\n",
      " - Contig 1\n",
      " - Contig 2\n",
      " - Contig 3\n",
      " - Contig 4\n",
      " - Unused Reads\n"
     ]
    }
   ],
   "source": [
    "# Splitting the assembly dataframe into consensus, and contig assemblies to merge data with later.\n",
    "\n",
    "dropped_assembly = drop_nan_columns(assembly)\n",
    "\n",
    "consensus_assembly = dropped_assembly[dropped_assembly[\"Sequence List Name\"] == \"Consensus Sequences\"]\n",
    "contig_assembly = dropped_assembly[\n",
    "    ~dropped_assembly[\"Sequence List Name\"].isin([\"Consensus Sequences\"])\n",
    "]\n",
    "\n",
    "consensus_assembly = combine_col1_into_col2(consensus_assembly, \"Created Date\", \"Created\")\n",
    "contig_assembly = combine_col1_into_col2(contig_assembly, \"Created Date\", \"Created\")\n",
    "\n",
    "COL_REMOVE = [\"% GC\",\"% HQ\", \"% LQ\", \"% MQ\", \"Ambiguities\", \"At least Q20\", \"At least Q30\",\n",
    "              \"At least Q40\", \"Bin\", \"Failed Binning Fields\", \"Modified\", \"Molecular Weight (kDa)\",\n",
    "              \"Post-Trim Length\", \"Rough Temperature (°C)\", \"Sequence Length\", \"Size\", \"Topology\", \"Molecule Type\"]\n",
    "\n",
    "contig_assembly = contig_assembly.drop(columns=COL_REMOVE)\n",
    "consensus_assembly = consensus_assembly.drop(columns=COL_REMOVE)\n",
    "\n",
    "# Now to drop unused columns\n",
    "consensus_assembly = drop_nan_columns(consensus_assembly)\n",
    "contig_assembly = drop_nan_columns(contig_assembly)\n",
    "\n",
    "# Now get the metadata from name for contig and unused assemblies.\n",
    "contig_assembly = contig_assembly.apply(split_query_name, axis=1)\n",
    "\n",
    "# Going to drop NaN columns\n",
    "contig_assembly = drop_nan_columns(contig_assembly)\n",
    "\n",
    "# Combine the barcode_alias into barcode\n",
    "contig_assembly = combine_col1_into_col2(contig_assembly, \"barcode_alias\", \"barcode\")\n",
    "\n",
    "# We now have two dataframes, one with the consensus and one with the contigs of the sequences.\n",
    "# will show the unique values in contig_assembly's column \"Sequence List Name\"\n",
    "print(\"Here are the contigs that we have in the assembly:\")\n",
    "for contig_label in contig_assembly[\"Sequence List Name\"].unique().tolist():\n",
    "    print(f\" - {contig_label}\")\n"
   ]
  },
  {
   "cell_type": "code",
   "execution_count": 115,
   "id": "b0610cdd",
   "metadata": {},
   "outputs": [],
   "source": [
    "# Connect the contigs to the query and hit dataframes.\n",
    "\n",
    "# This is a list of Series, each Series contains the values of 'parent_read_id' for each unique 'Sequence List Name'.\n",
    "list_series_values = group_column_values_into_mutliple_series(contig_assembly, 'Sequence List Name', 'parent_read_id')\n",
    "\n",
    "# conditions and choices for np.select\n",
    "conditions, choices = make_np_select_from_series_list(list_series_values, clean_hits, 'parent_read_id')\n",
    "\n",
    "# Makes a new column in clean_hits called 'Sequence List Name' based on the conditions and choices.\n",
    "clean_hits['Contig Name'] = np.select(conditions, choices, default=\"nan\")\n",
    "\n",
    "make_new_column_from_grouping_of_other_df(contig_assembly, 'Sequence List Name', 'parent_read_id', clean_noncontig_query, 'parent_read_id', 'Contig Name')\n"
   ]
  },
  {
   "cell_type": "markdown",
   "id": "e937d264",
   "metadata": {},
   "source": [
    "# Analysis\n",
    "\n",
    "The data has been cleaned up. Now it is time to use that to see the details about the run"
   ]
  },
  {
   "cell_type": "code",
   "execution_count": 116,
   "id": "ce38c893",
   "metadata": {},
   "outputs": [
    {
     "name": "stdout",
     "output_type": "stream",
     "text": [
      "This is what is uniquely inside contig_assembly :\n",
      " {'Sequence List Name'} \n",
      "This is what is uniquely in non-contigs:\n",
      " {'At least Q40', 'At least Q30', '% GC', 'Created', 'Post-Trim Length', 'Bin', '% HQ', '% MQ', 'Failed Binning Fields', '% LQ', 'At least Q20', 'Topology', 'Ambiguities', 'Molecular Weight (kDa)', 'URN', 'Size', 'Rough Temperature (°C)', 'Modified', 'Sequence Length', 'Contig Name', 'Molecule Type'}\n",
      "\n",
      "This is what is uniquely inside consensus_assembly :\n",
      " {'Sequence List Name'} \n",
      "This is what is uniquely in contigs:\n",
      " {'At least Q40', 'protocol_group_id', 'At least Q30', '% GC', 'Post-Trim Length', 'Bin', '% HQ', '% MQ', 'Failed Binning Fields', '% LQ', 'At least Q20', 'Topology', 'Ambiguities', 'Molecular Weight (kDa)', 'URN', 'Size', 'Rough Temperature (°C)', 'runid', 'Modified', 'Sequence Length', 'Molecule Type', 'barcode'}\n",
      "\n",
      "This is what is uniquely inside clean_hits :\n",
      " {'flow_cell_id', 'ch', 'Original Query Frame', 'Query end', 'start_time', '# Sequences', 'Min Sequence Length', 'Query', 'Grade', '# Nucleotides', 'parent_read_id', 'Database', 'Accession', 'Ref Seq Length', 'Max Sequence Length', 'Hit start', 'Organism', 'Hit end', 'Query coverage', 'E Value', 'Query start', 'Bit-Score', 'Ref Seq Index', 'basecall_model_version_id', 'Contig Name'} \n",
      "This is what is uniquely in contigs:\n",
      " {'% HQ', '% MQ', 'Failed Binning Fields', 'At least Q40', '% LQ', 'Sample', 'At least Q30', '# Source Sequences', 'Post-Trim Length', 'Bin', 'At least Q20', 'Ambiguities', 'Size'}\n"
     ]
    }
   ],
   "source": [
    "# Comparison of contig_assembly and clean_non_contig_query.\n",
    "in_contig, not_in_contig = compare_columns_sets(contig_assembly, clean_noncontig_query)\n",
    "print(\"This is what is uniquely inside contig_assembly :\\n\", in_contig, \"\\nThis is what is uniquely in non-contigs:\\n\", not_in_contig)\n",
    "print(\"\")\n",
    "in_contig, not_in_contig = compare_columns_sets(consensus_assembly, clean_contig_query)\n",
    "print(\"This is what is uniquely inside consensus_assembly :\\n\", in_contig, \"\\nThis is what is uniquely in contigs:\\n\", not_in_contig)\n",
    "print(\"\")\n",
    "in_contig, not_in_contig = compare_columns_sets(clean_hits, clean_contig_query)\n",
    "print(\"This is what is uniquely inside clean_hits :\\n\", in_contig, \"\\nThis is what is uniquely in contigs:\\n\", not_in_contig)\n"
   ]
  },
  {
   "cell_type": "code",
   "execution_count": 117,
   "id": "555baa73",
   "metadata": {},
   "outputs": [],
   "source": [
    "## Useful columns in clean_hits (so we can change later):\n",
    "USEFUL_COLS = [\n",
    "    'Name',\n",
    "    'parent_read_id',\n",
    "    'Accession',\n",
    "    'Grade',\n",
    "    'E Value',\n",
    "    'Bit-Score',\n",
    "    '% Identical Sites',\n",
    "    '% Pairwise Identity',\n",
    "    'barcode',\n",
    "    'Sequence Length',\n",
    "    'Contig Name'\n",
    "]\n",
    "organism_percent = clean_hits['Organism'].value_counts(normalize=True) * 100"
   ]
  },
  {
   "cell_type": "code",
   "execution_count": 118,
   "id": "ea7a46d1",
   "metadata": {},
   "outputs": [],
   "source": [
    "# Widgets for analysis\n",
    "# Look at https://ipywidgets.readthedocs.io/en/7.7.1/examples/Widget%20Basics.html for more info on widgets.\n",
    "## Dropdown for organism selection\n",
    "organism_dropdown = widgets.Dropdown(\n",
    "    options=list(organism_percent.index),\n",
    "    value=organism_percent.index[0],\n",
    "    description='Organism:',\n",
    "    disabled=False,\n",
    "    continuous_update=False\n",
    ")\n",
    "## IntText for number of results to show\n",
    "num_results_input = widgets.BoundedIntText(\n",
    "    value=3,\n",
    "    min=1,\n",
    "    max=len(clean_hits),\n",
    "    step=1,\n",
    "    description='Top Grade #:',\n",
    "    disabled=False,\n",
    "    continuous_update=False\n",
    ")\n",
    "## Checkbox for ascending grade order\n",
    "ascending_input = widgets.Checkbox(\n",
    "    value=False,\n",
    "    description='Ascending Grade Order',\n",
    "    disabled=False,\n",
    "    continuous_update=False\n",
    ")\n"
   ]
  },
  {
   "cell_type": "code",
   "execution_count": 119,
   "id": "b211e9cf",
   "metadata": {},
   "outputs": [],
   "source": [
    "# Functions for Analysis\n",
    "## Output for showing results based on Grade from Organism\n",
    "output_organism = widgets.Output(layout={'border': '1px solid black'})\n",
    "def show_top_hits_dropdown(organism_name, n_results, ascending=False):\n",
    "    filtered = clean_hits[clean_hits['Organism'] == organism_name]\n",
    "    try:\n",
    "        filtered = filtered.copy()\n",
    "        filtered['Grade_numeric'] = filtered['Grade'].str.rstrip('%').astype(float)\n",
    "        filtered = filtered.sort_values('Grade_numeric', ascending=ascending)\n",
    "    except Exception:\n",
    "        filtered = filtered.sort_values('Grade', ascending=ascending)\n",
    "    display(filtered.loc[:,USEFUL_COLS].head(n_results))\n",
    "\n",
    "# Updates output based on dropdown change\n",
    "def on_dropdown_change(change):\n",
    "    with output_organism:\n",
    "        clear_output()\n",
    "        show_top_hits_dropdown(organism_dropdown.value, num_results_input.value, ascending_input.value)\n",
    "# Update the output when the num value changes\n",
    "def on_num_results_change(change):\n",
    "    with output_organism:\n",
    "        clear_output()\n",
    "        show_top_hits_dropdown(organism_dropdown.value, num_results_input.value, ascending_input.value)\n",
    "# Update the output when the ascending value changes\n",
    "def on_ascending_input_change(change):\n",
    "    with output_organism:\n",
    "        clear_output()\n",
    "        show_top_hits_dropdown(organism_dropdown.value, num_results_input.value, ascending_input.value)"
   ]
  },
  {
   "cell_type": "markdown",
   "id": "de495277",
   "metadata": {},
   "source": [
    "## Number of Unique Organisms Found"
   ]
  },
  {
   "cell_type": "code",
   "execution_count": 120,
   "id": "bb822fcc",
   "metadata": {},
   "outputs": [
    {
     "name": "stdout",
     "output_type": "stream",
     "text": [
      "Klebsiella pneumoniae - 92.93 % - 684 hits\n",
      "Escherichia coli - 3.26 % - 24 hits\n",
      "Aspergillus citrinoterreus - 0.95 % - 7 hits\n",
      "Escherichia phage - 0.41 % - 3 hits\n",
      "Acinetobacter baumannii - 0.27 % - 2 hits\n",
      "MAG: Pyrinomonadaceae - 0.27 % - 2 hits\n",
      "Enterococcus faecium - 0.14 % - 1 hits\n",
      "MAG: Burkholderiales - 0.14 % - 1 hits\n",
      "Aquabacterium sp. - 0.14 % - 1 hits\n",
      "Agrobacterium pusense - 0.14 % - 1 hits\n",
      "Marinomonas arctica - 0.14 % - 1 hits\n",
      "Candidatus Viadribacter - 0.14 % - 1 hits\n",
      "Kaustia mangrovi - 0.14 % - 1 hits\n",
      "Mus musculus - 0.14 % - 1 hits\n",
      "MAG: Terriglobia - 0.14 % - 1 hits\n",
      "MAG: Phototrophicaceae - 0.14 % - 1 hits\n",
      "MAG: Hoeflea - 0.14 % - 1 hits\n",
      "MAG: Alphaproteobacteria - 0.14 % - 1 hits\n",
      "MAG: Gammaproteobacteria - 0.14 % - 1 hits\n",
      "Rubrivivax gelatinosus - 0.14 % - 1 hits\n"
     ]
    }
   ],
   "source": [
    "# Initial display of top hits for the most common organism\n",
    "for organism, percent in organism_percent.items():\n",
    "    print(f\"{organism} - {percent:.2f} % - {(clean_hits['Organism'] == organism).sum()} hits\")"
   ]
  },
  {
   "cell_type": "code",
   "execution_count": 121,
   "id": "67191230",
   "metadata": {},
   "outputs": [
    {
     "data": {
      "application/vnd.jupyter.widget-view+json": {
       "model_id": "9f8a789684e14135877ed18e464858d5",
       "version_major": 2,
       "version_minor": 0
      },
      "text/plain": [
       "Dropdown(description='Organism:', options=('Klebsiella pneumoniae', 'Escherichia coli', 'Aspergillus citrinote…"
      ]
     },
     "metadata": {},
     "output_type": "display_data"
    },
    {
     "data": {
      "application/vnd.jupyter.widget-view+json": {
       "model_id": "e211f4c40ac74d9e9578d8f8a59d6c13",
       "version_major": 2,
       "version_minor": 0
      },
      "text/plain": [
       "BoundedIntText(value=3, description='Top Grade #:', max=736, min=1)"
      ]
     },
     "metadata": {},
     "output_type": "display_data"
    },
    {
     "data": {
      "application/vnd.jupyter.widget-view+json": {
       "model_id": "d4118f8dc5b04ac09b67399b3215ba55",
       "version_major": 2,
       "version_minor": 0
      },
      "text/plain": [
       "Checkbox(value=False, description='Ascending Grade Order')"
      ]
     },
     "metadata": {},
     "output_type": "display_data"
    },
    {
     "data": {
      "application/vnd.jupyter.widget-view+json": {
       "model_id": "449c719f8f8e4f90aea6e9a8b5445bff",
       "version_major": 2,
       "version_minor": 0
      },
      "text/plain": [
       "Output(layout=Layout(border_bottom='1px solid black', border_left='1px solid black', border_right='1px solid b…"
      ]
     },
     "metadata": {},
     "output_type": "display_data"
    }
   ],
   "source": [
    "# Displays the interactable widget.\n",
    "organism_dropdown.observe(on_dropdown_change, names='value')\n",
    "num_results_input.observe(on_num_results_change, names='value')\n",
    "ascending_input.observe(on_ascending_input_change, names='value')\n",
    "\n",
    "display(organism_dropdown, num_results_input, ascending_input, output_organism)"
   ]
  },
  {
   "cell_type": "code",
   "execution_count": 122,
   "id": "226f5028",
   "metadata": {},
   "outputs": [
    {
     "name": "stdout",
     "output_type": "stream",
     "text": [
      "77.31% of sequences ran were identified.\n"
     ]
    }
   ],
   "source": [
    "# Quick and Dirty Identified vs Nonidentified.\n",
    "print(f\"{clean_hits.shape[0] / ( clean_contig_query.shape[0] + clean_noncontig_query.shape[0]) * 100:.2f}% of sequences ran were identified.\")"
   ]
  },
  {
   "cell_type": "markdown",
   "id": "a2351f6d",
   "metadata": {},
   "source": [
    "## Contig Analysis"
   ]
  },
  {
   "cell_type": "markdown",
   "id": "cf52b7ee",
   "metadata": {},
   "source": []
  }
 ],
 "metadata": {
  "kernelspec": {
   "display_name": "bioinformatics_a1",
   "language": "python",
   "name": "python3"
  },
  "language_info": {
   "codemirror_mode": {
    "name": "ipython",
    "version": 3
   },
   "file_extension": ".py",
   "mimetype": "text/x-python",
   "name": "python",
   "nbconvert_exporter": "python",
   "pygments_lexer": "ipython3",
   "version": "3.12.9"
  }
 },
 "nbformat": 4,
 "nbformat_minor": 5
}
