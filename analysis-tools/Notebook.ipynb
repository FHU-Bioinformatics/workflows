{
 "cells": [
  {
   "cell_type": "code",
   "execution_count": 1,
   "id": "a07bd093",
   "metadata": {},
   "outputs": [],
   "source": [
    "# Import necessary libraries\n",
    "import pandas as pd\n",
    "import numpy as np\n",
    "import os\n",
    "# For Analysis\n",
    "import ipywidgets as widgets\n",
    "from IPython.display import display, clear_output"
   ]
  },
  {
   "cell_type": "markdown",
   "id": "6a5e0f99",
   "metadata": {},
   "source": [
    "# Aquiring Data\n",
    "\n",
    "This will aquire the data from Drive once fully developed. Currently getting it from the data folder that is being ignored in Github. Right now, we are only getting it from folders Hits and Query, not Assembly."
   ]
  },
  {
   "cell_type": "code",
   "execution_count": 2,
   "id": "ceca7592",
   "metadata": {},
   "outputs": [],
   "source": [
    "#This will have to change after we set it up to pull from Drive\n",
    "datapath =  os.getcwd() + \"/data/\""
   ]
  },
  {
   "cell_type": "code",
   "execution_count": 3,
   "id": "ad79e2db",
   "metadata": {},
   "outputs": [
    {
     "ename": "FileNotFoundError",
     "evalue": "[Errno 2] No such file or directory: '/Users/evandvance/bioinformatics/workflows/analysis-tools/data/query.csv'",
     "output_type": "error",
     "traceback": [
      "\u001b[31m---------------------------------------------------------------------------\u001b[39m",
      "\u001b[31mFileNotFoundError\u001b[39m                         Traceback (most recent call last)",
      "\u001b[36mCell\u001b[39m\u001b[36m \u001b[39m\u001b[32mIn[3]\u001b[39m\u001b[32m, line 2\u001b[39m\n\u001b[32m      1\u001b[39m \u001b[38;5;66;03m# Getting our dataframe. Currently hardcoded with the name of the csv.\u001b[39;00m\n\u001b[32m----> \u001b[39m\u001b[32m2\u001b[39m query = \u001b[43mpd\u001b[49m\u001b[43m.\u001b[49m\u001b[43mread_csv\u001b[49m\u001b[43m(\u001b[49m\u001b[43mdatapath\u001b[49m\u001b[43m \u001b[49m\u001b[43m+\u001b[49m\u001b[43m \u001b[49m\u001b[33;43m\"\u001b[39;49m\u001b[33;43mquery.csv\u001b[39;49m\u001b[33;43m\"\u001b[39;49m\u001b[43m)\u001b[49m\n\u001b[32m      3\u001b[39m hits = pd.read_csv(datapath + \u001b[33m\"\u001b[39m\u001b[33mhits.csv\u001b[39m\u001b[33m\"\u001b[39m)\n",
      "\u001b[36mFile \u001b[39m\u001b[32m~/bioinformatics/workflows/analysis-tools/.venv/lib/python3.12/site-packages/pandas/io/parsers/readers.py:1026\u001b[39m, in \u001b[36mread_csv\u001b[39m\u001b[34m(filepath_or_buffer, sep, delimiter, header, names, index_col, usecols, dtype, engine, converters, true_values, false_values, skipinitialspace, skiprows, skipfooter, nrows, na_values, keep_default_na, na_filter, verbose, skip_blank_lines, parse_dates, infer_datetime_format, keep_date_col, date_parser, date_format, dayfirst, cache_dates, iterator, chunksize, compression, thousands, decimal, lineterminator, quotechar, quoting, doublequote, escapechar, comment, encoding, encoding_errors, dialect, on_bad_lines, delim_whitespace, low_memory, memory_map, float_precision, storage_options, dtype_backend)\u001b[39m\n\u001b[32m   1013\u001b[39m kwds_defaults = _refine_defaults_read(\n\u001b[32m   1014\u001b[39m     dialect,\n\u001b[32m   1015\u001b[39m     delimiter,\n\u001b[32m   (...)\u001b[39m\u001b[32m   1022\u001b[39m     dtype_backend=dtype_backend,\n\u001b[32m   1023\u001b[39m )\n\u001b[32m   1024\u001b[39m kwds.update(kwds_defaults)\n\u001b[32m-> \u001b[39m\u001b[32m1026\u001b[39m \u001b[38;5;28;01mreturn\u001b[39;00m \u001b[43m_read\u001b[49m\u001b[43m(\u001b[49m\u001b[43mfilepath_or_buffer\u001b[49m\u001b[43m,\u001b[49m\u001b[43m \u001b[49m\u001b[43mkwds\u001b[49m\u001b[43m)\u001b[49m\n",
      "\u001b[36mFile \u001b[39m\u001b[32m~/bioinformatics/workflows/analysis-tools/.venv/lib/python3.12/site-packages/pandas/io/parsers/readers.py:620\u001b[39m, in \u001b[36m_read\u001b[39m\u001b[34m(filepath_or_buffer, kwds)\u001b[39m\n\u001b[32m    617\u001b[39m _validate_names(kwds.get(\u001b[33m\"\u001b[39m\u001b[33mnames\u001b[39m\u001b[33m\"\u001b[39m, \u001b[38;5;28;01mNone\u001b[39;00m))\n\u001b[32m    619\u001b[39m \u001b[38;5;66;03m# Create the parser.\u001b[39;00m\n\u001b[32m--> \u001b[39m\u001b[32m620\u001b[39m parser = \u001b[43mTextFileReader\u001b[49m\u001b[43m(\u001b[49m\u001b[43mfilepath_or_buffer\u001b[49m\u001b[43m,\u001b[49m\u001b[43m \u001b[49m\u001b[43m*\u001b[49m\u001b[43m*\u001b[49m\u001b[43mkwds\u001b[49m\u001b[43m)\u001b[49m\n\u001b[32m    622\u001b[39m \u001b[38;5;28;01mif\u001b[39;00m chunksize \u001b[38;5;129;01mor\u001b[39;00m iterator:\n\u001b[32m    623\u001b[39m     \u001b[38;5;28;01mreturn\u001b[39;00m parser\n",
      "\u001b[36mFile \u001b[39m\u001b[32m~/bioinformatics/workflows/analysis-tools/.venv/lib/python3.12/site-packages/pandas/io/parsers/readers.py:1620\u001b[39m, in \u001b[36mTextFileReader.__init__\u001b[39m\u001b[34m(self, f, engine, **kwds)\u001b[39m\n\u001b[32m   1617\u001b[39m     \u001b[38;5;28mself\u001b[39m.options[\u001b[33m\"\u001b[39m\u001b[33mhas_index_names\u001b[39m\u001b[33m\"\u001b[39m] = kwds[\u001b[33m\"\u001b[39m\u001b[33mhas_index_names\u001b[39m\u001b[33m\"\u001b[39m]\n\u001b[32m   1619\u001b[39m \u001b[38;5;28mself\u001b[39m.handles: IOHandles | \u001b[38;5;28;01mNone\u001b[39;00m = \u001b[38;5;28;01mNone\u001b[39;00m\n\u001b[32m-> \u001b[39m\u001b[32m1620\u001b[39m \u001b[38;5;28mself\u001b[39m._engine = \u001b[38;5;28;43mself\u001b[39;49m\u001b[43m.\u001b[49m\u001b[43m_make_engine\u001b[49m\u001b[43m(\u001b[49m\u001b[43mf\u001b[49m\u001b[43m,\u001b[49m\u001b[43m \u001b[49m\u001b[38;5;28;43mself\u001b[39;49m\u001b[43m.\u001b[49m\u001b[43mengine\u001b[49m\u001b[43m)\u001b[49m\n",
      "\u001b[36mFile \u001b[39m\u001b[32m~/bioinformatics/workflows/analysis-tools/.venv/lib/python3.12/site-packages/pandas/io/parsers/readers.py:1880\u001b[39m, in \u001b[36mTextFileReader._make_engine\u001b[39m\u001b[34m(self, f, engine)\u001b[39m\n\u001b[32m   1878\u001b[39m     \u001b[38;5;28;01mif\u001b[39;00m \u001b[33m\"\u001b[39m\u001b[33mb\u001b[39m\u001b[33m\"\u001b[39m \u001b[38;5;129;01mnot\u001b[39;00m \u001b[38;5;129;01min\u001b[39;00m mode:\n\u001b[32m   1879\u001b[39m         mode += \u001b[33m\"\u001b[39m\u001b[33mb\u001b[39m\u001b[33m\"\u001b[39m\n\u001b[32m-> \u001b[39m\u001b[32m1880\u001b[39m \u001b[38;5;28mself\u001b[39m.handles = \u001b[43mget_handle\u001b[49m\u001b[43m(\u001b[49m\n\u001b[32m   1881\u001b[39m \u001b[43m    \u001b[49m\u001b[43mf\u001b[49m\u001b[43m,\u001b[49m\n\u001b[32m   1882\u001b[39m \u001b[43m    \u001b[49m\u001b[43mmode\u001b[49m\u001b[43m,\u001b[49m\n\u001b[32m   1883\u001b[39m \u001b[43m    \u001b[49m\u001b[43mencoding\u001b[49m\u001b[43m=\u001b[49m\u001b[38;5;28;43mself\u001b[39;49m\u001b[43m.\u001b[49m\u001b[43moptions\u001b[49m\u001b[43m.\u001b[49m\u001b[43mget\u001b[49m\u001b[43m(\u001b[49m\u001b[33;43m\"\u001b[39;49m\u001b[33;43mencoding\u001b[39;49m\u001b[33;43m\"\u001b[39;49m\u001b[43m,\u001b[49m\u001b[43m \u001b[49m\u001b[38;5;28;43;01mNone\u001b[39;49;00m\u001b[43m)\u001b[49m\u001b[43m,\u001b[49m\n\u001b[32m   1884\u001b[39m \u001b[43m    \u001b[49m\u001b[43mcompression\u001b[49m\u001b[43m=\u001b[49m\u001b[38;5;28;43mself\u001b[39;49m\u001b[43m.\u001b[49m\u001b[43moptions\u001b[49m\u001b[43m.\u001b[49m\u001b[43mget\u001b[49m\u001b[43m(\u001b[49m\u001b[33;43m\"\u001b[39;49m\u001b[33;43mcompression\u001b[39;49m\u001b[33;43m\"\u001b[39;49m\u001b[43m,\u001b[49m\u001b[43m \u001b[49m\u001b[38;5;28;43;01mNone\u001b[39;49;00m\u001b[43m)\u001b[49m\u001b[43m,\u001b[49m\n\u001b[32m   1885\u001b[39m \u001b[43m    \u001b[49m\u001b[43mmemory_map\u001b[49m\u001b[43m=\u001b[49m\u001b[38;5;28;43mself\u001b[39;49m\u001b[43m.\u001b[49m\u001b[43moptions\u001b[49m\u001b[43m.\u001b[49m\u001b[43mget\u001b[49m\u001b[43m(\u001b[49m\u001b[33;43m\"\u001b[39;49m\u001b[33;43mmemory_map\u001b[39;49m\u001b[33;43m\"\u001b[39;49m\u001b[43m,\u001b[49m\u001b[43m \u001b[49m\u001b[38;5;28;43;01mFalse\u001b[39;49;00m\u001b[43m)\u001b[49m\u001b[43m,\u001b[49m\n\u001b[32m   1886\u001b[39m \u001b[43m    \u001b[49m\u001b[43mis_text\u001b[49m\u001b[43m=\u001b[49m\u001b[43mis_text\u001b[49m\u001b[43m,\u001b[49m\n\u001b[32m   1887\u001b[39m \u001b[43m    \u001b[49m\u001b[43merrors\u001b[49m\u001b[43m=\u001b[49m\u001b[38;5;28;43mself\u001b[39;49m\u001b[43m.\u001b[49m\u001b[43moptions\u001b[49m\u001b[43m.\u001b[49m\u001b[43mget\u001b[49m\u001b[43m(\u001b[49m\u001b[33;43m\"\u001b[39;49m\u001b[33;43mencoding_errors\u001b[39;49m\u001b[33;43m\"\u001b[39;49m\u001b[43m,\u001b[49m\u001b[43m \u001b[49m\u001b[33;43m\"\u001b[39;49m\u001b[33;43mstrict\u001b[39;49m\u001b[33;43m\"\u001b[39;49m\u001b[43m)\u001b[49m\u001b[43m,\u001b[49m\n\u001b[32m   1888\u001b[39m \u001b[43m    \u001b[49m\u001b[43mstorage_options\u001b[49m\u001b[43m=\u001b[49m\u001b[38;5;28;43mself\u001b[39;49m\u001b[43m.\u001b[49m\u001b[43moptions\u001b[49m\u001b[43m.\u001b[49m\u001b[43mget\u001b[49m\u001b[43m(\u001b[49m\u001b[33;43m\"\u001b[39;49m\u001b[33;43mstorage_options\u001b[39;49m\u001b[33;43m\"\u001b[39;49m\u001b[43m,\u001b[49m\u001b[43m \u001b[49m\u001b[38;5;28;43;01mNone\u001b[39;49;00m\u001b[43m)\u001b[49m\u001b[43m,\u001b[49m\n\u001b[32m   1889\u001b[39m \u001b[43m\u001b[49m\u001b[43m)\u001b[49m\n\u001b[32m   1890\u001b[39m \u001b[38;5;28;01massert\u001b[39;00m \u001b[38;5;28mself\u001b[39m.handles \u001b[38;5;129;01mis\u001b[39;00m \u001b[38;5;129;01mnot\u001b[39;00m \u001b[38;5;28;01mNone\u001b[39;00m\n\u001b[32m   1891\u001b[39m f = \u001b[38;5;28mself\u001b[39m.handles.handle\n",
      "\u001b[36mFile \u001b[39m\u001b[32m~/bioinformatics/workflows/analysis-tools/.venv/lib/python3.12/site-packages/pandas/io/common.py:873\u001b[39m, in \u001b[36mget_handle\u001b[39m\u001b[34m(path_or_buf, mode, encoding, compression, memory_map, is_text, errors, storage_options)\u001b[39m\n\u001b[32m    868\u001b[39m \u001b[38;5;28;01melif\u001b[39;00m \u001b[38;5;28misinstance\u001b[39m(handle, \u001b[38;5;28mstr\u001b[39m):\n\u001b[32m    869\u001b[39m     \u001b[38;5;66;03m# Check whether the filename is to be opened in binary mode.\u001b[39;00m\n\u001b[32m    870\u001b[39m     \u001b[38;5;66;03m# Binary mode does not support 'encoding' and 'newline'.\u001b[39;00m\n\u001b[32m    871\u001b[39m     \u001b[38;5;28;01mif\u001b[39;00m ioargs.encoding \u001b[38;5;129;01mand\u001b[39;00m \u001b[33m\"\u001b[39m\u001b[33mb\u001b[39m\u001b[33m\"\u001b[39m \u001b[38;5;129;01mnot\u001b[39;00m \u001b[38;5;129;01min\u001b[39;00m ioargs.mode:\n\u001b[32m    872\u001b[39m         \u001b[38;5;66;03m# Encoding\u001b[39;00m\n\u001b[32m--> \u001b[39m\u001b[32m873\u001b[39m         handle = \u001b[38;5;28;43mopen\u001b[39;49m\u001b[43m(\u001b[49m\n\u001b[32m    874\u001b[39m \u001b[43m            \u001b[49m\u001b[43mhandle\u001b[49m\u001b[43m,\u001b[49m\n\u001b[32m    875\u001b[39m \u001b[43m            \u001b[49m\u001b[43mioargs\u001b[49m\u001b[43m.\u001b[49m\u001b[43mmode\u001b[49m\u001b[43m,\u001b[49m\n\u001b[32m    876\u001b[39m \u001b[43m            \u001b[49m\u001b[43mencoding\u001b[49m\u001b[43m=\u001b[49m\u001b[43mioargs\u001b[49m\u001b[43m.\u001b[49m\u001b[43mencoding\u001b[49m\u001b[43m,\u001b[49m\n\u001b[32m    877\u001b[39m \u001b[43m            \u001b[49m\u001b[43merrors\u001b[49m\u001b[43m=\u001b[49m\u001b[43merrors\u001b[49m\u001b[43m,\u001b[49m\n\u001b[32m    878\u001b[39m \u001b[43m            \u001b[49m\u001b[43mnewline\u001b[49m\u001b[43m=\u001b[49m\u001b[33;43m\"\u001b[39;49m\u001b[33;43m\"\u001b[39;49m\u001b[43m,\u001b[49m\n\u001b[32m    879\u001b[39m \u001b[43m        \u001b[49m\u001b[43m)\u001b[49m\n\u001b[32m    880\u001b[39m     \u001b[38;5;28;01melse\u001b[39;00m:\n\u001b[32m    881\u001b[39m         \u001b[38;5;66;03m# Binary mode\u001b[39;00m\n\u001b[32m    882\u001b[39m         handle = \u001b[38;5;28mopen\u001b[39m(handle, ioargs.mode)\n",
      "\u001b[31mFileNotFoundError\u001b[39m: [Errno 2] No such file or directory: '/Users/evandvance/bioinformatics/workflows/analysis-tools/data/query.csv'"
     ]
    }
   ],
   "source": [
    "# Getting our dataframe. Currently hardcoded with the name of the csv.\n",
    "query = pd.read_csv(datapath + \"query.csv\")\n",
    "hits = pd.read_csv(datapath + \"hits.csv\")"
   ]
  },
  {
   "cell_type": "markdown",
   "id": "d39fe8c3",
   "metadata": {},
   "source": [
    "# Cleaning Data\n",
    "\n",
    "This section cleans the data and also shows exactly what was dropped/manipulated."
   ]
  },
  {
   "cell_type": "code",
   "execution_count": null,
   "id": "ea112f62",
   "metadata": {},
   "outputs": [],
   "source": [
    "# These functions are for later exception raising/preliminary analysis of the actual csv structure.\n",
    "# They are mainly for cleaning the data, analysis functions will be later/in a different block.\n",
    "def compare_columns_sets(df1,df2):\n",
    "    set1_c, set2_c = set(df1.columns), set(df2.columns)\n",
    "    # \"a - b\" removes the items in a that it shares with b. (just look up set theory)\n",
    "    df1_dif = set1_c - set2_c\n",
    "    df2_dif = set2_c - set1_c\n",
    "    return df1_dif, df2_dif\n",
    "\n",
    "def drop_nan_columns(df):\n",
    "    dropped_df = df.dropna(axis=1,how='all')\n",
    "    return dropped_df\n",
    "\n",
    "def unusual_row_mask(df, col, threshold=0.5):\n",
    "    \"\"\"Return a Boolean mask for rows where the column has values,\n",
    "    but the column is mostly NaN based on the threshold.\"\"\"\n",
    "    if df[col].isna().mean() >= threshold:\n",
    "        return df[col].notna()\n",
    "    return pd.Series([False] * len(df), index=df.index)\n",
    "\n",
    "def get_peculiar_columns(df,threshold=0.5):\n",
    "    return (df.isnull().sum() / df.shape[0])[df.isnull().sum() / df.shape[0] > threshold]\n",
    "\n",
    "def rows_for_peculiar_columns(df,threshold=0.5):\n",
    "    masks = {}\n",
    "    p_series = get_peculiar_columns(df,threshold)\n",
    "    for p_col in p_series.index:\n",
    "        mask = unusual_row_mask(df, p_col, threshold)\n",
    "        if mask.any():  # Only keep masks that select at least one row. A dictionary\n",
    "            masks[p_col] = mask\n",
    "    return masks\n",
    "\n",
    "def split_query_name(row,splitting_column='Name'):\n",
    "    name = row[splitting_column]\n",
    "    name = name.split()\n",
    "    for item in name:\n",
    "        if \"=\" in item:\n",
    "            item = item.split(\"=\")\n",
    "            if item[1] == '' or item[1] == ' ' or item[1] == []:\n",
    "                item[1] = np.nan\n",
    "            row[item[0]] = item[1]\n",
    "    return row\n",
    "\n",
    "def compare_columns_rowwise(df, col1, col2):\n",
    "    \"\"\"\n",
    "    Compare two columns in a DataFrame row-wise.\n",
    "    Returns:\n",
    "        -1 if all values are the same in every row,\n",
    "        otherwise, a tuple of row indices where values differ.\n",
    "    \"\"\"\n",
    "    mask = df[col1] != df[col2]\n",
    "    diff_indices = tuple(df.index[mask])\n",
    "    return -1 if not diff_indices else diff_indices\n",
    "\n",
    "def combine_col1_into_col2(df, col1, col2):\n",
    "    \"\"\"\n",
    "    Combine values from col1 into col2 if col2 is NaN.\n",
    "    If col2 is not NaN, it will keep the original value.\n",
    "    \"\"\"\n",
    "    df.loc[:,col2] = df.loc[:,col1]\n",
    "    return df.drop(columns=[col1], axis=1)  # Drops col1 after combining\n"
   ]
  },
  {
   "cell_type": "markdown",
   "id": "102fee1c",
   "metadata": {},
   "source": [
    "### Immediate Cleanup\n",
    "\n",
    "Some of the data has all NaN values for certain columns, so they need to be cleaned up. Also, some qualities of the unclean data are shown."
   ]
  },
  {
   "cell_type": "code",
   "execution_count": null,
   "id": "d5593648",
   "metadata": {},
   "outputs": [
    {
     "name": "stdout",
     "output_type": "stream",
     "text": [
      "31 columns in uncleaned query\n",
      "38 columns in uncleaned hits\n"
     ]
    }
   ],
   "source": [
    "print(len(query.columns), \"columns in uncleaned query\")\n",
    "print(len(hits.columns), \"columns in uncleaned hits\")"
   ]
  },
  {
   "cell_type": "code",
   "execution_count": null,
   "id": "9699f243",
   "metadata": {},
   "outputs": [
    {
     "data": {
      "text/plain": [
       "Index(['Name', '# Source Sequences', '% GC', '% HQ', '% Identical Sites',\n",
       "       '% LQ', '% MQ', '% Pairwise Identity', 'Ambiguities', 'At least Q20',\n",
       "       'At least Q30', 'At least Q40', 'Bin', 'Created', 'Created Date',\n",
       "       'Description', 'Failed Binning Fields', 'Free end gaps',\n",
       "       'Mean Coverage', 'Modified', 'Molecular Weight (kDa)', 'Molecule Type',\n",
       "       'Post-Trim Length', 'Rough Temperature (°C)', 'Sample', 'Sequence',\n",
       "       'Sequence Length', 'Sequence List Name', 'Size', 'Topology', 'URN'],\n",
       "      dtype='object')"
      ]
     },
     "execution_count": 6,
     "metadata": {},
     "output_type": "execute_result"
    }
   ],
   "source": [
    "query.columns"
   ]
  },
  {
   "cell_type": "code",
   "execution_count": null,
   "id": "6f343af9",
   "metadata": {},
   "outputs": [
    {
     "data": {
      "text/plain": [
       "Index(['Name', '# Nucleotides', '# Sequences', '% GC', '% Identical Sites',\n",
       "       '% Pairwise Identity', 'Accession', 'Bit-Score', 'Created',\n",
       "       'Created Date', 'Database', 'Description', 'E Value', 'Free end gaps',\n",
       "       'Grade', 'Hit end', 'Hit start', 'Max Sequence Length', 'Mean Coverage',\n",
       "       'Min Sequence Length', 'Modified', 'Molecular Weight (kDa)',\n",
       "       'Molecule Type', 'Organism', 'Original Query Frame', 'Query',\n",
       "       'Query Id', 'Query coverage', 'Query end', 'Query start',\n",
       "       'Ref Seq Index', 'Ref Seq Length', 'Ref Seq Name',\n",
       "       'Rough Temperature (°C)', 'Sequence', 'Sequence Length', 'Topology',\n",
       "       'URN'],\n",
       "      dtype='object')"
      ]
     },
     "execution_count": 7,
     "metadata": {},
     "output_type": "execute_result"
    }
   ],
   "source": [
    "hits.columns"
   ]
  },
  {
   "cell_type": "code",
   "execution_count": null,
   "id": "7deac7d0",
   "metadata": {},
   "outputs": [
    {
     "name": "stdout",
     "output_type": "stream",
     "text": [
      "For dropped query ({'Sequence List Name'}, set())\n",
      "For dropped hits ({'Query Id', 'Ref Seq Name'}, set())\n",
      "Merged Created Date into Created in both query and hits.\n"
     ]
    }
   ],
   "source": [
    "# Drops missing columns and combines same columns.\n",
    "dropped_query = drop_nan_columns(query)\n",
    "dropped_hits = drop_nan_columns(hits)\n",
    "# Error check. Make Better Later\n",
    "\n",
    "print(\"For dropped query\", compare_columns_sets(query,dropped_query))\n",
    "\n",
    "print(\"For dropped hits\", compare_columns_sets(hits,dropped_hits))\n",
    "\n",
    "if compare_columns_rowwise(dropped_query, 'Created Date', 'Created') != -1:\n",
    "     raise ValueError(compare_columns_rowwise(dropped_query, 'Created Date', 'Created'), \"are the rows where Created Date and Created differ.\")\n",
    "\n",
    "if compare_columns_rowwise(dropped_hits, 'Created Date', 'Created') != -1:\n",
    "    raise ValueError(compare_columns_rowwise(dropped_hits, 'Created Date', 'Created'), \"are the rows where Created Date and Created differ.\")\n",
    "\n",
    "# Combines Created Date into Created\n",
    "dropped_query = combine_col1_into_col2(dropped_query, 'Created Date', 'Created')\n",
    "dropped_hits = combine_col1_into_col2(dropped_hits, 'Created Date', 'Created')\n",
    "print(\"Merged Created Date into Created in both query and hits.\")"
   ]
  },
  {
   "cell_type": "markdown",
   "id": "145e99ad",
   "metadata": {},
   "source": [
    "### Metadata Cleanup\n",
    "\n",
    "The exportation from Geneious Prime has extra data in Name and Query from the sequences in the folders Query and Hits respectively. These will enable us to partially link them together later in analysis.\n",
    "\n",
    "This next block shows exactly what we have to split up in our data, as Geneious prime put more data inside certain cells than others."
   ]
  },
  {
   "cell_type": "code",
   "execution_count": null,
   "id": "cc662f8d",
   "metadata": {},
   "outputs": [
    {
     "name": "stdout",
     "output_type": "stream",
     "text": [
      "There's metadata in certain cells.\n",
      "From the Query column in hits:\n",
      " Query    ace289cb-a9d5-470a-9e5f-86a43409224e runid=d0b33ea7460a391678012986097c20ea1c294534 ch=328 start_time=2025-02-25T14:51:59.325974-06:00 flow_cell_id=FBA87864 protocol_group_id=B3_T9_Seq_Run_25_02_25 sample_id= barcode=barcode13 barcode_alias=barcode13 parent_read_id=ace289cb-a9d5-470a-9e5f-86a43409224e basecall_model_version_id=dna_r10.4.1_e8.2_400bps_hac@v4.3.0\n",
      "Name: 10, dtype: object\n",
      "\n",
      "From the Name column in query:\n",
      " Name    1a42e9ad-2006-4a0d-8c47-45e11a2a0354 runid=d0b33ea7460a391678012986097c20ea1c294534 ch=358 start_time=2025-02-26T05:02:08.325974-06:00 flow_cell_id=FBA87864 protocol_group_id=B3_T9_Seq_Run_25_02_25 sample_id= barcode=barcode13 barcode_alias=barcode13 parent_read_id=1a42e9ad-2006-4a0d-8c47-45e11a2a0354 basecall_model_version_id=dna_r10.4.1_e8.2_400bps_hac@v4.3.0\n",
      "Name: 20, dtype: object\n"
     ]
    }
   ],
   "source": [
    "# Shows the peculiar columns in the query and hits.\n",
    "print(\"There's metadata in certain cells.\")\n",
    "# Arbitrary row chosen to demonstrate the metadata.\n",
    "query_val = dropped_hits.loc[10,[\"Query\"]]\n",
    "pd.set_option('display.max_colwidth', None)\n",
    "print(\"From the Query column in hits:\\n\", query_val)\n",
    "name_val = dropped_query.loc[20,[\"Name\"]]\n",
    "print(\"\\nFrom the Name column in query:\\n\", name_val)"
   ]
  },
  {
   "cell_type": "markdown",
   "id": "8edfd2d8",
   "metadata": {},
   "source": [
    "Yet, for our queries that were contigs, the \"Name\" does not have the extra data (as it is just named \"Contig #\", so we lose a lot of extra data). We need to split the query dataframe."
   ]
  },
  {
   "cell_type": "code",
   "execution_count": null,
   "id": "1b005066",
   "metadata": {},
   "outputs": [
    {
     "name": "stdout",
     "output_type": "stream",
     "text": [
      "These keys are what contigs but not regular sequences have:\n",
      " dict_keys(['# Source Sequences', '% Identical Sites', '% Pairwise Identity', 'Description', 'Free end gaps', 'Mean Coverage', 'Sample'])\n"
     ]
    }
   ],
   "source": [
    "# Splits the query table into the contigs and noncontigs. + a TODO\n",
    "# TODO May need to do equals() to see if each column really does correspond to a contig.\n",
    "query_masks = rows_for_peculiar_columns(dropped_query)\n",
    "print(\"These keys are what contigs but not regular sequences have:\\n\", query_masks.keys())\n",
    "contig_query = dropped_query[query_masks['# Source Sequences']]\n",
    "noncontig_query = drop_nan_columns(dropped_query[~query_masks['# Source Sequences']])"
   ]
  },
  {
   "cell_type": "markdown",
   "id": "1404b741",
   "metadata": {},
   "source": [
    "Some of the extra data, doesn't actually have extra data, so that also needs to be cleaned up."
   ]
  },
  {
   "cell_type": "code",
   "execution_count": null,
   "id": "ddb6e1ac",
   "metadata": {},
   "outputs": [],
   "source": [
    "# Splits our data up and gets the weird cell split up. Also drops sample_id as there is none.\n",
    "clean_contig_query = contig_query.apply(split_query_name, axis=1) # Nothing happens as Name is just Contig #.\n",
    "clean_noncontig_query = drop_nan_columns(noncontig_query.apply(split_query_name, axis=1))\n",
    "clean_hits = drop_nan_columns(dropped_hits.apply(split_query_name, axis=1, splitting_column=\"Query\"))"
   ]
  },
  {
   "cell_type": "code",
   "execution_count": null,
   "id": "0f411024",
   "metadata": {},
   "outputs": [
    {
     "name": "stdout",
     "output_type": "stream",
     "text": [
      "This is what is uniquely inside contigs:\n",
      " {'Description', '% Identical Sites', '# Source Sequences', 'Free end gaps', 'Mean Coverage', '% Pairwise Identity', 'Sample'} \n",
      "This is what is uniquely in non-contigs:\n",
      " {'parent_read_id', 'barcode_alias', 'basecall_model_version_id', 'runid', 'start_time', 'flow_cell_id', 'ch', 'protocol_group_id', 'barcode'}\n"
     ]
    }
   ],
   "source": [
    "# Shows unique columns in contigs and non-contigs queries.\n",
    "in_contig, not_in_contig = compare_columns_sets(clean_contig_query, clean_noncontig_query)\n",
    "print(\"This is what is uniquely inside contigs:\\n\", in_contig, \"\\nThis is what is uniquely in non-contigs:\\n\", not_in_contig)"
   ]
  },
  {
   "cell_type": "code",
   "execution_count": null,
   "id": "840608d4",
   "metadata": {},
   "outputs": [],
   "source": [
    "# Combine 'barcode' and 'barcode_alias' into 'barcode' \n",
    "clean_noncontig_query = combine_col1_into_col2(clean_noncontig_query, 'barcode_alias', 'barcode')\n",
    "clean_hits = combine_col1_into_col2(clean_hits, 'barcode_alias', 'barcode')"
   ]
  },
  {
   "cell_type": "code",
   "execution_count": null,
   "id": "1e00823d",
   "metadata": {},
   "outputs": [],
   "source": [
    "# Cleaning clean_hits where they are contigs.\n",
    "# This is where we will add the barcode and protocol_group_id.\n",
    "# We will also fill in the parent_read_id with the Query column.\n",
    "\n",
    "clean_hits[['barcode', 'protocol_group_id']] = clean_hits[['barcode', 'protocol_group_id']].bfill().ffill()\n",
    "clean_hits['parent_read_id'] = clean_hits['parent_read_id'].fillna(clean_hits['Query'])"
   ]
  },
  {
   "cell_type": "markdown",
   "id": "85547e35",
   "metadata": {},
   "source": [
    "Final look at what the dataframe looks like along with final bug tests before analysis."
   ]
  },
  {
   "cell_type": "code",
   "execution_count": null,
   "id": "4fb35f11",
   "metadata": {},
   "outputs": [
    {
     "name": "stdout",
     "output_type": "stream",
     "text": [
      "From a row in c_hits:\n",
      " # Nucleotides                                                                                                                                                                                                                                                                                                                                                                                         58\n",
      "# Sequences                                                                                                                                                                                                                                                                                                                                                                                            2\n",
      "% GC                                                                                                                                                                                                                                                                                                                                                                                               58.6%\n",
      "% Identical Sites                                                                                                                                                                                                                                                                                                                                                                                 100.0%\n",
      "% Pairwise Identity                                                                                                                                                                                                                                                                                                                                                                               100.0%\n",
      "Accession                                                                                                                                                                                                                                                                                                                                                                                       CP013244\n",
      "Bit-Score                                                                                                                                                                                                                                                                                                                                                                                        54.6731\n",
      "Created                                                                                                                                                                                                                                                                                                                                                                     Tue Jun 03 10:14:50 CDT 2025\n",
      "Database                                                                                                                                                                                                                                                                                                                                                                                         core_nt\n",
      "Description                                                                                                                                                                                                                                                                                                                   Candidatus Viadribacter manganicus strain A272 chromosome, complete genome\n",
      "E Value                                                                                                                                                                                                                                                                                                                                                                                          0.00205\n",
      "Free end gaps                                                                                                                                                                                                                                                                                                                                                                                       True\n",
      "Grade                                                                                                                                                                                                                                                                                                                                                                                              39.2%\n",
      "Hit end                                                                                                                                                                                                                                                                                                                                                                                          1179941\n",
      "Hit start                                                                                                                                                                                                                                                                                                                                                                                        1179969\n",
      "Max Sequence Length                                                                                                                                                                                                                                                                                                                                                                                   29\n",
      "Mean Coverage                                                                                                                                                                                                                                                                                                                                                                                        2.0\n",
      "Min Sequence Length                                                                                                                                                                                                                                                                                                                                                                                   29\n",
      "Modified                                                                                                                                                                                                                                                                                                                                                                    Tue Jun 03 10:14:13 CDT 2025\n",
      "Molecular Weight (kDa)                                                                                                                                                                                                                                                                                                                                                                           8.90974\n",
      "Molecule Type                                                                                                                                                                                                                                                                                                                                                                                        DNA\n",
      "Name                                                                                                                                                                                                                                                                                                                                                                                            CP013244\n",
      "Organism                                                                                                                                                                                                                                                                                                                                                                         Candidatus Viadribacter\n",
      "Original Query Frame                                                                                                                                                                                                                                                                                                                                                                                   1\n",
      "Query                        c7345a2a-ea63-4302-9ccf-df211e3e108d runid=d0b33ea7460a391678012986097c20ea1c294534 ch=252 start_time=2025-02-25T09:43:53.325974-06:00 flow_cell_id=FBA87864 protocol_group_id=B3_T9_Seq_Run_25_02_25 sample_id= barcode=barcode13 barcode_alias=barcode13 parent_read_id=c7345a2a-ea63-4302-9ccf-df211e3e108d basecall_model_version_id=dna_r10.4.1_e8.2_400bps_hac@v4.3.0\n",
      "Query coverage                                                                                                                                                                                                                                                                                                                                                                                    28.43%\n",
      "Query end                                                                                                                                                                                                                                                                                                                                                                                             29\n",
      "Query start                                                                                                                                                                                                                                                                                                                                                                                            1\n",
      "Ref Seq Index                                                                                                                                                                                                                                                                                                                                                                                         -1\n",
      "Ref Seq Length                                                                                                                                                                                                                                                                                                                                                                                         0\n",
      "Rough Temperature (°C)                                                                                                                                                                                                                                                                                                                                                                          70.92069\n",
      "Sequence                                                                                                                                                                                                                                                                                                                                                                   ACGGCTATCGCAACGTCTACGAACTCGGC\n",
      "Sequence Length                                                                                                                                                                                                                                                                                                                                                                                       29\n",
      "Topology                                                                                                                                                                                                                                                                                                                                                                                          linear\n",
      "URN                                                                                                                                                                                                                                                                                                                                                                              urn:local:.:ess-j8w0l84\n",
      "barcode                                                                                                                                                                                                                                                                                                                                                                                        barcode13\n",
      "basecall_model_version_id                                                                                                                                                                                                                                                                                                                                             dna_r10.4.1_e8.2_400bps_hac@v4.3.0\n",
      "ch                                                                                                                                                                                                                                                                                                                                                                                                   252\n",
      "flow_cell_id                                                                                                                                                                                                                                                                                                                                                                                    FBA87864\n",
      "parent_read_id                                                                                                                                                                                                                                                                                                                                                      c7345a2a-ea63-4302-9ccf-df211e3e108d\n",
      "protocol_group_id                                                                                                                                                                                                                                                                                                                                                                 B3_T9_Seq_Run_25_02_25\n",
      "runid                                                                                                                                                                                                                                                                                                                                                           d0b33ea7460a391678012986097c20ea1c294534\n",
      "start_time                                                                                                                                                                                                                                                                                                                                                              2025-02-25T09:43:53.325974-06:00\n",
      "Name: 1, dtype: object\n"
     ]
    }
   ],
   "source": [
    "# Columns in c_hits\n",
    "c_hits_val = clean_hits.loc[1, :]\n",
    "pd.set_option('display.max_colwidth', None)\n",
    "print(\"From a row in c_hits:\\n\", c_hits_val)"
   ]
  },
  {
   "cell_type": "code",
   "execution_count": null,
   "id": "398479b3",
   "metadata": {},
   "outputs": [
    {
     "name": "stdout",
     "output_type": "stream",
     "text": [
      "Columns (+ examples) in c_contig_query:\n",
      "\n",
      "From a row in c_hits:\n",
      " Name                                                                                                                                                                                                                                                                                                                                                                                                                                                                                                                                                                                                                             Contig 4\n",
      "# Source Sequences                                                                                                                                                                                                                                                                                                                                                                                                                                                                                                                                                                                                                    2.0\n",
      "% GC                                                                                                                                                                                                                                                                                                                                                                                                                                                                                                                                                                                                                                38.4%\n",
      "% HQ                                                                                                                                                                                                                                                                                                                                                                                                                                                                                                                                                                                                                                63.8%\n",
      "% Identical Sites                                                                                                                                                                                                                                                                                                                                                                                                                                                                                                                                                                                                                  100.0%\n",
      "% LQ                                                                                                                                                                                                                                                                                                                                                                                                                                                                                                                                                                                                                                 5.6%\n",
      "% MQ                                                                                                                                                                                                                                                                                                                                                                                                                                                                                                                                                                                                                                30.6%\n",
      "% Pairwise Identity                                                                                                                                                                                                                                                                                                                                                                                                                                                                                                                                                                                                                100.0%\n",
      "Ambiguities                                                                                                                                                                                                                                                                                                                                                                                                                                                                                                                                                                                                                             0\n",
      "At least Q20                                                                                                                                                                                                                                                                                                                                                                                                                                                                                                                                                                                                                       94.42%\n",
      "At least Q30                                                                                                                                                                                                                                                                                                                                                                                                                                                                                                                                                                                                                       87.31%\n",
      "At least Q40                                                                                                                                                                                                                                                                                                                                                                                                                                                                                                                                                                                                                       63.79%\n",
      "Bin                                                                                                                                                                                                                                                                                                                                                                                                                                                                                                                                                                                                                                <1>Low\n",
      "Created                                                                                                                                                                                                                                                                                                                                                                                                                                                                                                                                                                                                      Tue Jun 03 10:12:34 CDT 2025\n",
      "Description                                                                                                                                                                                                                                                                                                                                                                                                                                                                                                                                                                           2 reads from 135 documents assembled using Geneious\n",
      "Failed Binning Fields                                                                                                                                                                                                                                                                                                                                                                                                                                                                                                                                                                                                                % HQ\n",
      "Free end gaps                                                                                                                                                                                                                                                                                                                                                                                                                                                                                                                                                                                                                        True\n",
      "Mean Coverage                                                                                                                                                                                                                                                                                                                                                                                                                                                                                                                                                                                                                    1.445008\n",
      "Modified                                                                                                                                                                                                                                                                                                                                                                                                                                                                                                                                                                                                     Tue Jun 03 10:12:28 CDT 2025\n",
      "Molecular Weight (kDa)                                                                                                                                                                                                                                                                                                                                                                                                                                                                                                                                                                                                          182.36378\n",
      "Molecule Type                                                                                                                                                                                                                                                                                                                                                                                                                                                                                                                                                                                                                         DNA\n",
      "Post-Trim Length                                                                                                                                                                                                                                                                                                                                                                                                                                                                                                                                                                                                                      591\n",
      "Rough Temperature (°C)                                                                                                                                                                                                                                                                                                                                                                                                                                                                                                                                                                                                          83.948054\n",
      "Sample                                                                                                                                                                                                                                                                                                                                                                                                                                                                                                                                                                                                                      135 documents\n",
      "Sequence                  GTGTTAATAAAAGGACTTAAAAAGGTTGTAAATGTTAAATTCAAACATGCATCTTATAGAAACGTCCTATGATAGGTTGAAATCAAGAGAAATCACATTTCAGCAATACAGGGAAAATCTTGCTAAAGCAGGAGTTTTCCGATGGGTTACAAATATCCATGAACATAAAAGATATTACTATACCTTTGATAATTCATTACTATTTACTGAGAGCATTCAGAACACTACACAAATCTTTCCACGCTAAATCATAACGTCCGGTTTCTTCCGTGTCAGCACCGGGGCGTTGGCATAATGCAATACGTGTACGCGCTAAACCCTGTGTGCATCGTTTTAATTATTCCCGGACACTCCCGCAGAGAAGTTCCCCGTCAGGGCTGTGGACATAGTTAATCCGGGAATACAATGACGATTCATCGCACCTGACATACATTAATAAATATTAACAATATGAAATTTCAACTCATTGTTTAGGGTTTGTTTAATTTTCTACACATACGATTCTGCGAACTTCAAAAAGCATCGGGAATAACACCATGAAAAAAATGCTACTCGCTACTGCGCTGGCCCTGCTTATTACAGGATGTGCTC\n",
      "Sequence Length                                                                                                                                                                                                                                                                                                                                                                                                                                                                                                                                                                                                                       591\n",
      "Size                                                                                                                                                                                                                                                                                                                                                                                                                                                                                                                                                                                                                                 3 KB\n",
      "Topology                                                                                                                                                                                                                                                                                                                                                                                                                                                                                                                                                                                                                           linear\n",
      "URN                                                                                                                                                                                                                                                                                                                                                                                                                                                                                                                                                                                                               urn:local:.:bgu-j8w0aq4\n",
      "barcode                                                                                                                                                                                                                                                                                                                                                                                                                                                                                                                                                                                                                         barcode13\n",
      "protocol_group_id                                                                                                                                                                                                                                                                                                                                                                                                                                                                                                                                                                                                  B3_T9_Seq_Run_25_02_25\n",
      "Name: 768, dtype: object\n"
     ]
    }
   ],
   "source": [
    "# Columns in c_contig_query\n",
    "c_contig_val = clean_contig_query.iloc[3,:]\n",
    "pd.set_option('display.max_colwidth', None)\n",
    "print(\"Columns (+ examples) in c_contig_query:\\n\")\n",
    "print(\"From a row in c_hits:\\n\", c_contig_val)"
   ]
  },
  {
   "cell_type": "code",
   "execution_count": null,
   "id": "57280492",
   "metadata": {},
   "outputs": [],
   "source": [
    "## TODO, make tests of data connections.\n",
    "#assert all(hits.columns == query.columns), \"Columns in hits and query do not match\"\n",
    "#assert all(hits.columns == query.columns), \"Columns in hits and query do not match\""
   ]
  },
  {
   "cell_type": "code",
   "execution_count": null,
   "id": "594953f6",
   "metadata": {},
   "outputs": [],
   "source": [
    "## TODO, analysis of filtered workflow vs unfiltered workflow.\n",
    "#filtered_hits = pd.read_csv(datapath + \"barcode13-filtered-hits.csv\")\n",
    "#filtered_hits = filtered_hits.apply(split_query_name, axis=1)\n",
    "#filtered_hits.columns\n",
    "#hits[hits[\"parent_read_id\"] != filtered_hits[\"parent_read_id\"]]"
   ]
  },
  {
   "cell_type": "markdown",
   "id": "e937d264",
   "metadata": {},
   "source": [
    "# Analysis\n",
    "\n",
    "The data has been cleaned up. Now it is time to use that to see the details about the run"
   ]
  },
  {
   "cell_type": "code",
   "execution_count": null,
   "id": "555baa73",
   "metadata": {},
   "outputs": [],
   "source": [
    "## Useful columns in clean_hits (so we can change later):\n",
    "USEFUL_COLS = [\n",
    "    'Name',\n",
    "    'parent_read_id',\n",
    "    'Accession',\n",
    "    'Grade',\n",
    "    'E Value',\n",
    "    'Bit-Score',\n",
    "    '% Identical Sites',\n",
    "    '% Pairwise Identity',\n",
    "    'barcode',\n",
    "    'Sequence Length',\n",
    "]\n",
    "organism_percent = clean_hits['Organism'].value_counts(normalize=True) * 100"
   ]
  },
  {
   "cell_type": "code",
   "execution_count": null,
   "id": "ea7a46d1",
   "metadata": {},
   "outputs": [],
   "source": [
    "# Widgets for analysis\n",
    "# Look at https://ipywidgets.readthedocs.io/en/7.7.1/examples/Widget%20Basics.html for more info on widgets.\n",
    "## Dropdown for organism selection\n",
    "organism_dropdown = widgets.Dropdown(\n",
    "    options=list(organism_percent.index),\n",
    "    value=organism_percent.index[0],\n",
    "    description='Organism:',\n",
    "    disabled=False,\n",
    "    continuous_update=False\n",
    ")\n",
    "## IntText for number of results to show\n",
    "num_results_input = widgets.BoundedIntText(\n",
    "    value=3,\n",
    "    min=1,\n",
    "    max=len(clean_hits),\n",
    "    step=1,\n",
    "    description='Top Grade #:',\n",
    "    disabled=False,\n",
    "    continuous_update=False\n",
    ")\n",
    "## Checkbox for ascending grade order\n",
    "ascending_input = widgets.Checkbox(\n",
    "    value=False,\n",
    "    description='Ascending Grade Order',\n",
    "    disabled=False,\n",
    "    continuous_update=False\n",
    ")\n"
   ]
  },
  {
   "cell_type": "code",
   "execution_count": null,
   "id": "b211e9cf",
   "metadata": {},
   "outputs": [],
   "source": [
    "# Functions for Analysis\n",
    "## Output for showing results based on Grade from Organism\n",
    "output_organism = widgets.Output(layout={'border': '1px solid black'})\n",
    "def show_top_hits_dropdown(organism_name, n_results, ascending=False):\n",
    "    filtered = clean_hits[clean_hits['Organism'] == organism_name]\n",
    "    try:\n",
    "        filtered = filtered.copy()\n",
    "        filtered['Grade_numeric'] = filtered['Grade'].str.rstrip('%').astype(float)\n",
    "        filtered = filtered.sort_values('Grade_numeric', ascending=ascending)\n",
    "    except Exception:\n",
    "        filtered = filtered.sort_values('Grade', ascending=ascending)\n",
    "    display(filtered.loc[:,USEFUL_COLS].head(n_results))\n",
    "\n",
    "# Updates output based on dropdown change\n",
    "def on_dropdown_change(change):\n",
    "    with output_organism:\n",
    "        clear_output()\n",
    "        show_top_hits_dropdown(organism_dropdown.value, num_results_input.value, ascending_input.value)\n",
    "# Update the output when the num value changes\n",
    "def on_num_results_change(change):\n",
    "    with output_organism:\n",
    "        clear_output()\n",
    "        show_top_hits_dropdown(organism_dropdown.value, num_results_input.value, ascending_input.value)\n",
    "# Update the output when the ascending value changes\n",
    "def on_ascending_input_change(change):\n",
    "    with output_organism:\n",
    "        clear_output()\n",
    "        show_top_hits_dropdown(organism_dropdown.value, num_results_input.value, ascending_input.value)"
   ]
  },
  {
   "cell_type": "markdown",
   "id": "de495277",
   "metadata": {},
   "source": [
    "### Number of Unique Organisms Found"
   ]
  },
  {
   "cell_type": "code",
   "execution_count": null,
   "id": "bb822fcc",
   "metadata": {},
   "outputs": [
    {
     "name": "stdout",
     "output_type": "stream",
     "text": [
      "Klebsiella pneumoniae - 92.93 % - 684 hits\n",
      "Escherichia coli - 3.26 % - 24 hits\n",
      "Aspergillus citrinoterreus - 0.95 % - 7 hits\n",
      "Escherichia phage - 0.41 % - 3 hits\n",
      "Acinetobacter baumannii - 0.27 % - 2 hits\n",
      "MAG: Pyrinomonadaceae - 0.27 % - 2 hits\n",
      "Enterococcus faecium - 0.14 % - 1 hits\n",
      "MAG: Burkholderiales - 0.14 % - 1 hits\n",
      "Aquabacterium sp. - 0.14 % - 1 hits\n",
      "Agrobacterium pusense - 0.14 % - 1 hits\n",
      "Marinomonas arctica - 0.14 % - 1 hits\n",
      "Candidatus Viadribacter - 0.14 % - 1 hits\n",
      "Kaustia mangrovi - 0.14 % - 1 hits\n",
      "Mus musculus - 0.14 % - 1 hits\n",
      "MAG: Terriglobia - 0.14 % - 1 hits\n",
      "MAG: Phototrophicaceae - 0.14 % - 1 hits\n",
      "MAG: Hoeflea - 0.14 % - 1 hits\n",
      "MAG: Alphaproteobacteria - 0.14 % - 1 hits\n",
      "MAG: Gammaproteobacteria - 0.14 % - 1 hits\n",
      "Rubrivivax gelatinosus - 0.14 % - 1 hits\n"
     ]
    }
   ],
   "source": [
    "# Initial display of top hits for the most common organism\n",
    "for organism, percent in organism_percent.items():\n",
    "    print(f\"{organism} - {percent:.2f} % - {(clean_hits['Organism'] == organism).sum()} hits\")"
   ]
  },
  {
   "cell_type": "code",
   "execution_count": null,
   "id": "67191230",
   "metadata": {},
   "outputs": [
    {
     "data": {
      "application/vnd.jupyter.widget-view+json": {
       "model_id": "a804785e1c2a489fb06cb5999305729d",
       "version_major": 2,
       "version_minor": 0
      },
      "text/plain": [
       "Dropdown(description='Organism:', options=('Klebsiella pneumoniae', 'Escherichia coli', 'Aspergillus citrinote…"
      ]
     },
     "metadata": {},
     "output_type": "display_data"
    },
    {
     "data": {
      "application/vnd.jupyter.widget-view+json": {
       "model_id": "911f04c4a5574fe886c79b9cfb48a8fe",
       "version_major": 2,
       "version_minor": 0
      },
      "text/plain": [
       "BoundedIntText(value=3, description='Top Grade #:', max=736, min=1)"
      ]
     },
     "metadata": {},
     "output_type": "display_data"
    },
    {
     "data": {
      "application/vnd.jupyter.widget-view+json": {
       "model_id": "771f912693844530a1cc312b8756c8eb",
       "version_major": 2,
       "version_minor": 0
      },
      "text/plain": [
       "Checkbox(value=False, description='Ascending Grade Order')"
      ]
     },
     "metadata": {},
     "output_type": "display_data"
    },
    {
     "data": {
      "application/vnd.jupyter.widget-view+json": {
       "model_id": "ad75e3f39726417bbb66531060a30253",
       "version_major": 2,
       "version_minor": 0
      },
      "text/plain": [
       "Output(layout=Layout(border_bottom='1px solid black', border_left='1px solid black', border_right='1px solid b…"
      ]
     },
     "metadata": {},
     "output_type": "display_data"
    }
   ],
   "source": [
    "# Displays the interactable widget.\n",
    "organism_dropdown.observe(on_dropdown_change, names='value')\n",
    "num_results_input.observe(on_num_results_change, names='value')\n",
    "ascending_input.observe(on_ascending_input_change, names='value')\n",
    "\n",
    "display(organism_dropdown, num_results_input, ascending_input, output_organism)"
   ]
  },
  {
   "cell_type": "code",
   "execution_count": null,
   "id": "226f5028",
   "metadata": {},
   "outputs": [
    {
     "name": "stdout",
     "output_type": "stream",
     "text": [
      "77.31% of sequences were identified.\n"
     ]
    }
   ],
   "source": [
    "# Quick and Dirty Identified vs Nonidentified.\n",
    "print(f\"{clean_hits.shape[0] / ( clean_contig_query.shape[0] + clean_noncontig_query.shape[0]) * 100:.2f}% of sequences were identified.\")"
   ]
  }
 ],
 "metadata": {
  "kernelspec": {
   "display_name": ".venv",
   "language": "python",
   "name": "python3"
  },
  "language_info": {
   "codemirror_mode": {
    "name": "ipython",
    "version": 3
   },
   "file_extension": ".py",
   "mimetype": "text/x-python",
   "name": "python",
   "nbconvert_exporter": "python",
   "pygments_lexer": "ipython3",
   "version": "3.12.9"
  }
 },
 "nbformat": 4,
 "nbformat_minor": 5
}
