{
 "cells": [
  {
   "cell_type": "code",
   "execution_count": 52,
   "id": "a07bd093",
   "metadata": {},
   "outputs": [],
   "source": [
    "import pandas as pd\n",
    "\n",
    "datapath = \"./data/\""
   ]
  },
  {
   "cell_type": "code",
   "execution_count": 53,
   "id": "ad79e2db",
   "metadata": {},
   "outputs": [],
   "source": [
    "query = pd.read_csv(datapath + \"barcode13-query.csv\")\n",
    "hits = pd.read_csv(datapath + \"barcode13-hits.csv\")"
   ]
  },
  {
   "cell_type": "code",
   "execution_count": 54,
   "id": "d5593648",
   "metadata": {},
   "outputs": [
    {
     "data": {
      "text/plain": [
       "31"
      ]
     },
     "execution_count": 54,
     "metadata": {},
     "output_type": "execute_result"
    }
   ],
   "source": [
    "len(query.columns)"
   ]
  },
  {
   "cell_type": "code",
   "execution_count": 55,
   "id": "9699f243",
   "metadata": {},
   "outputs": [
    {
     "data": {
      "text/plain": [
       "Index(['Name', '# Source Sequences', '% GC', '% HQ', '% Identical Sites',\n",
       "       '% LQ', '% MQ', '% Pairwise Identity', 'Ambiguities', 'At least Q20',\n",
       "       'At least Q30', 'At least Q40', 'Bin', 'Created', 'Created Date',\n",
       "       'Description', 'Failed Binning Fields', 'Free end gaps',\n",
       "       'Mean Coverage', 'Modified', 'Molecular Weight (kDa)', 'Molecule Type',\n",
       "       'Post-Trim Length', 'Rough Temperature (°C)', 'Sample', 'Sequence',\n",
       "       'Sequence Length', 'Sequence List Name', 'Size', 'Topology', 'URN'],\n",
       "      dtype='object')"
      ]
     },
     "execution_count": 55,
     "metadata": {},
     "output_type": "execute_result"
    }
   ],
   "source": [
    "query.columns"
   ]
  },
  {
   "cell_type": "code",
   "execution_count": 56,
   "id": "ddb6e1ac",
   "metadata": {},
   "outputs": [],
   "source": [
    "def clean_query_name(row):\n",
    "    name = row['Name']\n",
    "    name = name.split()\n",
    "    for item in name:\n",
    "        if \"=\" in item:\n",
    "            item = item.split(\"=\")\n",
    "            row[item[0]] = item[1]\n",
    "\n",
    "    return row\n"
   ]
  },
  {
   "cell_type": "code",
   "execution_count": 57,
   "id": "e517a3bd",
   "metadata": {},
   "outputs": [
    {
     "data": {
      "text/plain": [
       "41"
      ]
     },
     "execution_count": 57,
     "metadata": {},
     "output_type": "execute_result"
    }
   ],
   "source": [
    "query = query.apply(clean_query_name, axis=1)\n",
    "len(query.columns)"
   ]
  },
  {
   "cell_type": "code",
   "execution_count": 64,
   "id": "dec16500",
   "metadata": {},
   "outputs": [
    {
     "data": {
      "text/plain": [
       "# Source Sequences     0.995798\n",
       "% Identical Sites      0.995798\n",
       "% Pairwise Identity    0.995798\n",
       "Description            0.995798\n",
       "Free end gaps          0.995798\n",
       "Mean Coverage          0.995798\n",
       "Sample                 0.995798\n",
       "Sequence List Name     1.000000\n",
       "dtype: float64"
      ]
     },
     "execution_count": 64,
     "metadata": {},
     "output_type": "execute_result"
    }
   ],
   "source": [
    "(query.isnull().sum() / query.shape[0])[query.isnull().sum() / query.shape[0] > 0.5]"
   ]
  },
  {
   "cell_type": "code",
   "execution_count": 63,
   "id": "d7aaab3f",
   "metadata": {},
   "outputs": [
    {
     "data": {
      "text/plain": [
       "np.int64(4)"
      ]
     },
     "execution_count": 63,
     "metadata": {},
     "output_type": "execute_result"
    }
   ],
   "source": [
    "query[\"% Pairwise Identity\"].notnull().sum()"
   ]
  }
 ],
 "metadata": {
  "kernelspec": {
   "display_name": ".venv",
   "language": "python",
   "name": "python3"
  },
  "language_info": {
   "codemirror_mode": {
    "name": "ipython",
    "version": 3
   },
   "file_extension": ".py",
   "mimetype": "text/x-python",
   "name": "python",
   "nbconvert_exporter": "python",
   "pygments_lexer": "ipython3",
   "version": "3.12.9"
  }
 },
 "nbformat": 4,
 "nbformat_minor": 5
}
